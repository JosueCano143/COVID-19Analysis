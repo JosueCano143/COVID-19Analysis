{
 "cells": [
  {
   "cell_type": "markdown",
   "metadata": {},
   "source": [
    "# Data Analysis: COVID19 (Mexico)\n",
    "Data Analyst Bootcamp 2020\n",
    "/Author: Josue Cano\n",
    "/Guadalajara, April 2020. "
   ]
  },
  {
   "cell_type": "markdown",
   "metadata": {},
   "source": [
    "### Data manipulation"
   ]
  },
  {
   "cell_type": "code",
   "execution_count": 728,
   "metadata": {},
   "outputs": [],
   "source": [
    "# Import libraries\n",
    "import pandas  as pd\n",
    "import numpy as np\n",
    "import matplotlib.pyplot as plt\n",
    "from datetime import datetime\n",
    "import seaborn as sns\n"
   ]
  },
  {
   "cell_type": "code",
   "execution_count": 729,
   "metadata": {},
   "outputs": [
    {
     "name": "stdout",
     "output_type": "stream",
     "text": [
      "(1378, 8)\n",
      "<class 'pandas.core.frame.DataFrame'>\n",
      "Int64Index: 1378 entries, 0 to 1377\n",
      "Data columns (total 8 columns):\n",
      " #   Column       Non-Null Count  Dtype \n",
      "---  ------       --------------  ----- \n",
      " 0   N° Caso      1378 non-null   int64 \n",
      " 1   Estado       1378 non-null   object\n",
      " 2   Sexo         1378 non-null   object\n",
      " 3   Edad         1378 non-null   int64 \n",
      " 4   Inicio de    1378 non-null   object\n",
      " 5   por RT-PCR   1378 non-null   object\n",
      " 6   Procedencia  1378 non-null   object\n",
      " 7   llegada a    728 non-null    object\n",
      "dtypes: int64(2), object(6)\n",
      "memory usage: 64.6+ KB\n",
      "None\n"
     ]
    }
   ],
   "source": [
    "# Read the file containing the data and assign it to: \"data\"\n",
    "data = pd.read_csv('reporte_Mexico.csv', index_col = 0)\n",
    "\n",
    "# Print the size of the data array\n",
    "print(data.shape)\n",
    "\n",
    "# Print a concise summary of the DataFrame\n",
    "print(data.info())"
   ]
  },
  {
   "cell_type": "code",
   "execution_count": 730,
   "metadata": {},
   "outputs": [],
   "source": [
    "# Rename each column in the array\n",
    "data.rename(columns = {\n",
    "    \"N° Caso\": \"n_caso\",\n",
    "    \"Estado\": \"estado\",\n",
    "    \"Sexo\": \"sexo\",\n",
    "    \"Edad\": \"edad\",\n",
    "    \"Inicio de\": \"inicio\",\n",
    "    \"por RT-PCR\": \"estatus\",\n",
    "    \"Procedencia\": \"procedencia\",\n",
    "    \"llegada a\": \"llegada_mexico\"\n",
    "}, inplace = True)"
   ]
  },
  {
   "cell_type": "code",
   "execution_count": 731,
   "metadata": {},
   "outputs": [
    {
     "data": {
      "text/html": [
       "<div>\n",
       "<style scoped>\n",
       "    .dataframe tbody tr th:only-of-type {\n",
       "        vertical-align: middle;\n",
       "    }\n",
       "\n",
       "    .dataframe tbody tr th {\n",
       "        vertical-align: top;\n",
       "    }\n",
       "\n",
       "    .dataframe thead th {\n",
       "        text-align: right;\n",
       "    }\n",
       "</style>\n",
       "<table border=\"1\" class=\"dataframe\">\n",
       "  <thead>\n",
       "    <tr style=\"text-align: right;\">\n",
       "      <th></th>\n",
       "      <th>n_caso</th>\n",
       "      <th>estado</th>\n",
       "      <th>sexo</th>\n",
       "      <th>edad</th>\n",
       "      <th>inicio</th>\n",
       "      <th>estatus</th>\n",
       "      <th>procedencia</th>\n",
       "      <th>llegada_mexico</th>\n",
       "    </tr>\n",
       "  </thead>\n",
       "  <tbody>\n",
       "    <tr>\n",
       "      <th>0</th>\n",
       "      <td>1</td>\n",
       "      <td>CIUDAD DE MÉXICO</td>\n",
       "      <td>M</td>\n",
       "      <td>35</td>\n",
       "      <td>22/02/2020</td>\n",
       "      <td>Confirmado</td>\n",
       "      <td>Italia</td>\n",
       "      <td>22/02/2020</td>\n",
       "    </tr>\n",
       "    <tr>\n",
       "      <th>1</th>\n",
       "      <td>2</td>\n",
       "      <td>SINALOA</td>\n",
       "      <td>M</td>\n",
       "      <td>41</td>\n",
       "      <td>22/02/2020</td>\n",
       "      <td>Confirmado</td>\n",
       "      <td>Italia</td>\n",
       "      <td>21/02/2020</td>\n",
       "    </tr>\n",
       "    <tr>\n",
       "      <th>2</th>\n",
       "      <td>3</td>\n",
       "      <td>CIUDAD DE MÉXICO</td>\n",
       "      <td>M</td>\n",
       "      <td>59</td>\n",
       "      <td>23/02/2020</td>\n",
       "      <td>Confirmado</td>\n",
       "      <td>Italia</td>\n",
       "      <td>22/02/2020</td>\n",
       "    </tr>\n",
       "    <tr>\n",
       "      <th>3</th>\n",
       "      <td>4</td>\n",
       "      <td>COAHUILA</td>\n",
       "      <td>F</td>\n",
       "      <td>20</td>\n",
       "      <td>27/02/2020</td>\n",
       "      <td>Confirmado</td>\n",
       "      <td>Italia</td>\n",
       "      <td>25/02/2020</td>\n",
       "    </tr>\n",
       "    <tr>\n",
       "      <th>4</th>\n",
       "      <td>5</td>\n",
       "      <td>CHIAPAS</td>\n",
       "      <td>F</td>\n",
       "      <td>18</td>\n",
       "      <td>25/02/2020</td>\n",
       "      <td>Confirmado</td>\n",
       "      <td>Italia</td>\n",
       "      <td>25/02/2020</td>\n",
       "    </tr>\n",
       "    <tr>\n",
       "      <th>5</th>\n",
       "      <td>6</td>\n",
       "      <td>MÉXICO</td>\n",
       "      <td>M</td>\n",
       "      <td>71</td>\n",
       "      <td>21/02/2020</td>\n",
       "      <td>Confirmado</td>\n",
       "      <td>Italia</td>\n",
       "      <td>21/02/2020</td>\n",
       "    </tr>\n",
       "  </tbody>\n",
       "</table>\n",
       "</div>"
      ],
      "text/plain": [
       "   n_caso            estado sexo  edad      inicio     estatus procedencia  \\\n",
       "0       1  CIUDAD DE MÉXICO    M    35  22/02/2020  Confirmado      Italia   \n",
       "1       2           SINALOA    M    41  22/02/2020  Confirmado      Italia   \n",
       "2       3  CIUDAD DE MÉXICO    M    59  23/02/2020  Confirmado      Italia   \n",
       "3       4          COAHUILA    F    20  27/02/2020  Confirmado      Italia   \n",
       "4       5           CHIAPAS    F    18  25/02/2020  Confirmado      Italia   \n",
       "5       6            MÉXICO    M    71  21/02/2020  Confirmado      Italia   \n",
       "\n",
       "  llegada_mexico  \n",
       "0     22/02/2020  \n",
       "1     21/02/2020  \n",
       "2     22/02/2020  \n",
       "3     25/02/2020  \n",
       "4     25/02/2020  \n",
       "5     21/02/2020  "
      ]
     },
     "execution_count": 731,
     "metadata": {},
     "output_type": "execute_result"
    }
   ],
   "source": [
    "# Read the first six records\n",
    "data.head(6)"
   ]
  },
  {
   "cell_type": "code",
   "execution_count": 732,
   "metadata": {},
   "outputs": [
    {
     "data": {
      "text/html": [
       "<div>\n",
       "<style scoped>\n",
       "    .dataframe tbody tr th:only-of-type {\n",
       "        vertical-align: middle;\n",
       "    }\n",
       "\n",
       "    .dataframe tbody tr th {\n",
       "        vertical-align: top;\n",
       "    }\n",
       "\n",
       "    .dataframe thead th {\n",
       "        text-align: right;\n",
       "    }\n",
       "</style>\n",
       "<table border=\"1\" class=\"dataframe\">\n",
       "  <thead>\n",
       "    <tr style=\"text-align: right;\">\n",
       "      <th></th>\n",
       "      <th>n_caso</th>\n",
       "      <th>estado</th>\n",
       "      <th>sexo</th>\n",
       "      <th>edad</th>\n",
       "      <th>inicio</th>\n",
       "      <th>estatus</th>\n",
       "      <th>procedencia</th>\n",
       "      <th>llegada_mexico</th>\n",
       "    </tr>\n",
       "  </thead>\n",
       "  <tbody>\n",
       "    <tr>\n",
       "      <th>1373</th>\n",
       "      <td>1374</td>\n",
       "      <td>CIUDAD DE MÉXICO</td>\n",
       "      <td>F</td>\n",
       "      <td>54</td>\n",
       "      <td>25/03/2020</td>\n",
       "      <td>Confirmado</td>\n",
       "      <td>Contacto</td>\n",
       "      <td>NaN</td>\n",
       "    </tr>\n",
       "    <tr>\n",
       "      <th>1374</th>\n",
       "      <td>1375</td>\n",
       "      <td>NAYARIT</td>\n",
       "      <td>F</td>\n",
       "      <td>79</td>\n",
       "      <td>24/03/2020</td>\n",
       "      <td>Confirmado</td>\n",
       "      <td>Contacto</td>\n",
       "      <td>NaN</td>\n",
       "    </tr>\n",
       "    <tr>\n",
       "      <th>1375</th>\n",
       "      <td>1376</td>\n",
       "      <td>NUEVO LEÓN</td>\n",
       "      <td>F</td>\n",
       "      <td>46</td>\n",
       "      <td>28/03/2020</td>\n",
       "      <td>Confirmado</td>\n",
       "      <td>Contacto</td>\n",
       "      <td>NaN</td>\n",
       "    </tr>\n",
       "    <tr>\n",
       "      <th>1376</th>\n",
       "      <td>1377</td>\n",
       "      <td>PUEBLA</td>\n",
       "      <td>M</td>\n",
       "      <td>49</td>\n",
       "      <td>23/03/2020</td>\n",
       "      <td>Confirmado</td>\n",
       "      <td>Contacto</td>\n",
       "      <td>NaN</td>\n",
       "    </tr>\n",
       "    <tr>\n",
       "      <th>1377</th>\n",
       "      <td>1378</td>\n",
       "      <td>SAN LUIS POTOSÍ</td>\n",
       "      <td>F</td>\n",
       "      <td>41</td>\n",
       "      <td>27/03/2020</td>\n",
       "      <td>Confirmado</td>\n",
       "      <td>Estados Unidos</td>\n",
       "      <td>17/03/2020</td>\n",
       "    </tr>\n",
       "  </tbody>\n",
       "</table>\n",
       "</div>"
      ],
      "text/plain": [
       "      n_caso            estado sexo  edad      inicio     estatus  \\\n",
       "1373    1374  CIUDAD DE MÉXICO    F    54  25/03/2020  Confirmado   \n",
       "1374    1375           NAYARIT    F    79  24/03/2020  Confirmado   \n",
       "1375    1376        NUEVO LEÓN    F    46  28/03/2020  Confirmado   \n",
       "1376    1377            PUEBLA    M    49  23/03/2020  Confirmado   \n",
       "1377    1378   SAN LUIS POTOSÍ    F    41  27/03/2020  Confirmado   \n",
       "\n",
       "         procedencia llegada_mexico  \n",
       "1373        Contacto            NaN  \n",
       "1374        Contacto            NaN  \n",
       "1375        Contacto            NaN  \n",
       "1376        Contacto            NaN  \n",
       "1377  Estados Unidos     17/03/2020  "
      ]
     },
     "execution_count": 732,
     "metadata": {},
     "output_type": "execute_result"
    }
   ],
   "source": [
    "# Read the last five records\n",
    "data.tail()"
   ]
  },
  {
   "cell_type": "code",
   "execution_count": 733,
   "metadata": {},
   "outputs": [
    {
     "data": {
      "text/html": [
       "<div>\n",
       "<style scoped>\n",
       "    .dataframe tbody tr th:only-of-type {\n",
       "        vertical-align: middle;\n",
       "    }\n",
       "\n",
       "    .dataframe tbody tr th {\n",
       "        vertical-align: top;\n",
       "    }\n",
       "\n",
       "    .dataframe thead th {\n",
       "        text-align: right;\n",
       "    }\n",
       "</style>\n",
       "<table border=\"1\" class=\"dataframe\">\n",
       "  <thead>\n",
       "    <tr style=\"text-align: right;\">\n",
       "      <th></th>\n",
       "      <th>n_caso</th>\n",
       "      <th>estado</th>\n",
       "      <th>sexo</th>\n",
       "      <th>edad</th>\n",
       "      <th>inicio</th>\n",
       "      <th>estatus</th>\n",
       "      <th>procedencia</th>\n",
       "      <th>llegada_mexico</th>\n",
       "    </tr>\n",
       "  </thead>\n",
       "  <tbody>\n",
       "    <tr>\n",
       "      <th>89</th>\n",
       "      <td>90</td>\n",
       "      <td>YUCATÁN</td>\n",
       "      <td>M</td>\n",
       "      <td>21</td>\n",
       "      <td>13/03/2020</td>\n",
       "      <td>Confirmado</td>\n",
       "      <td>13/03/2020</td>\n",
       "      <td>Confirmado</td>\n",
       "    </tr>\n",
       "    <tr>\n",
       "      <th>377</th>\n",
       "      <td>378</td>\n",
       "      <td>JALISCO</td>\n",
       "      <td>M</td>\n",
       "      <td>19</td>\n",
       "      <td>16/03/2020</td>\n",
       "      <td>Confirmado</td>\n",
       "      <td>15/03/2020</td>\n",
       "      <td>Confirmado</td>\n",
       "    </tr>\n",
       "    <tr>\n",
       "      <th>473</th>\n",
       "      <td>474</td>\n",
       "      <td>HIDALGO</td>\n",
       "      <td>F</td>\n",
       "      <td>16</td>\n",
       "      <td>20/03/2020</td>\n",
       "      <td>Confirmado</td>\n",
       "      <td>13/03/2020</td>\n",
       "      <td>Confirmado</td>\n",
       "    </tr>\n",
       "    <tr>\n",
       "      <th>569</th>\n",
       "      <td>570</td>\n",
       "      <td>NAYARIT</td>\n",
       "      <td>F</td>\n",
       "      <td>32</td>\n",
       "      <td>10/03/2020</td>\n",
       "      <td>Confirmado</td>\n",
       "      <td>15/03/2020</td>\n",
       "      <td>Confirmado</td>\n",
       "    </tr>\n",
       "    <tr>\n",
       "      <th>617</th>\n",
       "      <td>618</td>\n",
       "      <td>MICHOACÁN</td>\n",
       "      <td>F</td>\n",
       "      <td>60</td>\n",
       "      <td>18/03/2020</td>\n",
       "      <td>Confirmado</td>\n",
       "      <td>17/03/2020</td>\n",
       "      <td>Confirmado</td>\n",
       "    </tr>\n",
       "    <tr>\n",
       "      <th>713</th>\n",
       "      <td>714</td>\n",
       "      <td>JALISCO</td>\n",
       "      <td>F</td>\n",
       "      <td>13</td>\n",
       "      <td>22/03/2020</td>\n",
       "      <td>Confirmado</td>\n",
       "      <td>20/03/2020</td>\n",
       "      <td>Confirmado</td>\n",
       "    </tr>\n",
       "    <tr>\n",
       "      <th>761</th>\n",
       "      <td>762</td>\n",
       "      <td>CIUDAD DE MÉXICO</td>\n",
       "      <td>F</td>\n",
       "      <td>20</td>\n",
       "      <td>14/03/2020</td>\n",
       "      <td>Confirmado</td>\n",
       "      <td>09/03/2020</td>\n",
       "      <td>Confirmado</td>\n",
       "    </tr>\n",
       "    <tr>\n",
       "      <th>857</th>\n",
       "      <td>858</td>\n",
       "      <td>CIUDAD DE MÉXICO</td>\n",
       "      <td>F</td>\n",
       "      <td>43</td>\n",
       "      <td>23/03/2020</td>\n",
       "      <td>Confirmado</td>\n",
       "      <td>24/03/2020</td>\n",
       "      <td>Confirmado</td>\n",
       "    </tr>\n",
       "    <tr>\n",
       "      <th>905</th>\n",
       "      <td>906</td>\n",
       "      <td>PUEBLA</td>\n",
       "      <td>M</td>\n",
       "      <td>45</td>\n",
       "      <td>21/03/2020</td>\n",
       "      <td>Confirmado</td>\n",
       "      <td>24/03/2020</td>\n",
       "      <td>Confirmado</td>\n",
       "    </tr>\n",
       "    <tr>\n",
       "      <th>953</th>\n",
       "      <td>954</td>\n",
       "      <td>MÉXICO</td>\n",
       "      <td>M</td>\n",
       "      <td>50</td>\n",
       "      <td>14/03/2020</td>\n",
       "      <td>Confirmado</td>\n",
       "      <td>15/03/2020</td>\n",
       "      <td>Confirmado</td>\n",
       "    </tr>\n",
       "  </tbody>\n",
       "</table>\n",
       "</div>"
      ],
      "text/plain": [
       "     n_caso            estado sexo  edad      inicio     estatus procedencia  \\\n",
       "89       90           YUCATÁN    M    21  13/03/2020  Confirmado  13/03/2020   \n",
       "377     378           JALISCO    M    19  16/03/2020  Confirmado  15/03/2020   \n",
       "473     474           HIDALGO    F    16  20/03/2020  Confirmado  13/03/2020   \n",
       "569     570           NAYARIT    F    32  10/03/2020  Confirmado  15/03/2020   \n",
       "617     618         MICHOACÁN    F    60  18/03/2020  Confirmado  17/03/2020   \n",
       "713     714           JALISCO    F    13  22/03/2020  Confirmado  20/03/2020   \n",
       "761     762  CIUDAD DE MÉXICO    F    20  14/03/2020  Confirmado  09/03/2020   \n",
       "857     858  CIUDAD DE MÉXICO    F    43  23/03/2020  Confirmado  24/03/2020   \n",
       "905     906            PUEBLA    M    45  21/03/2020  Confirmado  24/03/2020   \n",
       "953     954            MÉXICO    M    50  14/03/2020  Confirmado  15/03/2020   \n",
       "\n",
       "    llegada_mexico  \n",
       "89      Confirmado  \n",
       "377     Confirmado  \n",
       "473     Confirmado  \n",
       "569     Confirmado  \n",
       "617     Confirmado  \n",
       "713     Confirmado  \n",
       "761     Confirmado  \n",
       "857     Confirmado  \n",
       "905     Confirmado  \n",
       "953     Confirmado  "
      ]
     },
     "execution_count": 733,
     "metadata": {},
     "output_type": "execute_result"
    }
   ],
   "source": [
    "# Determine non-useful records (with value for \"llegada_mexico\" outside parameters)\n",
    "data[data[\"llegada_mexico\"] == \"Confirmado\"]"
   ]
  },
  {
   "cell_type": "code",
   "execution_count": 734,
   "metadata": {},
   "outputs": [
    {
     "data": {
      "text/html": [
       "<div>\n",
       "<style scoped>\n",
       "    .dataframe tbody tr th:only-of-type {\n",
       "        vertical-align: middle;\n",
       "    }\n",
       "\n",
       "    .dataframe tbody tr th {\n",
       "        vertical-align: top;\n",
       "    }\n",
       "\n",
       "    .dataframe thead th {\n",
       "        text-align: right;\n",
       "    }\n",
       "</style>\n",
       "<table border=\"1\" class=\"dataframe\">\n",
       "  <thead>\n",
       "    <tr style=\"text-align: right;\">\n",
       "      <th></th>\n",
       "      <th>n_caso</th>\n",
       "      <th>estado</th>\n",
       "      <th>sexo</th>\n",
       "      <th>edad</th>\n",
       "      <th>inicio</th>\n",
       "      <th>estatus</th>\n",
       "      <th>procedencia</th>\n",
       "      <th>llegada_mexico</th>\n",
       "    </tr>\n",
       "  </thead>\n",
       "  <tbody>\n",
       "    <tr>\n",
       "      <th>0</th>\n",
       "      <td>1</td>\n",
       "      <td>CIUDAD DE MÉXICO</td>\n",
       "      <td>M</td>\n",
       "      <td>35</td>\n",
       "      <td>22/02/2020</td>\n",
       "      <td>Confirmado</td>\n",
       "      <td>Italia</td>\n",
       "      <td>22/02/2020</td>\n",
       "    </tr>\n",
       "    <tr>\n",
       "      <th>1</th>\n",
       "      <td>2</td>\n",
       "      <td>SINALOA</td>\n",
       "      <td>M</td>\n",
       "      <td>41</td>\n",
       "      <td>22/02/2020</td>\n",
       "      <td>Confirmado</td>\n",
       "      <td>Italia</td>\n",
       "      <td>21/02/2020</td>\n",
       "    </tr>\n",
       "    <tr>\n",
       "      <th>2</th>\n",
       "      <td>3</td>\n",
       "      <td>CIUDAD DE MÉXICO</td>\n",
       "      <td>M</td>\n",
       "      <td>59</td>\n",
       "      <td>23/02/2020</td>\n",
       "      <td>Confirmado</td>\n",
       "      <td>Italia</td>\n",
       "      <td>22/02/2020</td>\n",
       "    </tr>\n",
       "    <tr>\n",
       "      <th>3</th>\n",
       "      <td>4</td>\n",
       "      <td>COAHUILA</td>\n",
       "      <td>F</td>\n",
       "      <td>20</td>\n",
       "      <td>27/02/2020</td>\n",
       "      <td>Confirmado</td>\n",
       "      <td>Italia</td>\n",
       "      <td>25/02/2020</td>\n",
       "    </tr>\n",
       "    <tr>\n",
       "      <th>4</th>\n",
       "      <td>5</td>\n",
       "      <td>CHIAPAS</td>\n",
       "      <td>F</td>\n",
       "      <td>18</td>\n",
       "      <td>25/02/2020</td>\n",
       "      <td>Confirmado</td>\n",
       "      <td>Italia</td>\n",
       "      <td>25/02/2020</td>\n",
       "    </tr>\n",
       "    <tr>\n",
       "      <th>...</th>\n",
       "      <td>...</td>\n",
       "      <td>...</td>\n",
       "      <td>...</td>\n",
       "      <td>...</td>\n",
       "      <td>...</td>\n",
       "      <td>...</td>\n",
       "      <td>...</td>\n",
       "      <td>...</td>\n",
       "    </tr>\n",
       "    <tr>\n",
       "      <th>1373</th>\n",
       "      <td>1374</td>\n",
       "      <td>CIUDAD DE MÉXICO</td>\n",
       "      <td>F</td>\n",
       "      <td>54</td>\n",
       "      <td>25/03/2020</td>\n",
       "      <td>Confirmado</td>\n",
       "      <td>Contacto</td>\n",
       "      <td>NaN</td>\n",
       "    </tr>\n",
       "    <tr>\n",
       "      <th>1374</th>\n",
       "      <td>1375</td>\n",
       "      <td>NAYARIT</td>\n",
       "      <td>F</td>\n",
       "      <td>79</td>\n",
       "      <td>24/03/2020</td>\n",
       "      <td>Confirmado</td>\n",
       "      <td>Contacto</td>\n",
       "      <td>NaN</td>\n",
       "    </tr>\n",
       "    <tr>\n",
       "      <th>1375</th>\n",
       "      <td>1376</td>\n",
       "      <td>NUEVO LEÓN</td>\n",
       "      <td>F</td>\n",
       "      <td>46</td>\n",
       "      <td>28/03/2020</td>\n",
       "      <td>Confirmado</td>\n",
       "      <td>Contacto</td>\n",
       "      <td>NaN</td>\n",
       "    </tr>\n",
       "    <tr>\n",
       "      <th>1376</th>\n",
       "      <td>1377</td>\n",
       "      <td>PUEBLA</td>\n",
       "      <td>M</td>\n",
       "      <td>49</td>\n",
       "      <td>23/03/2020</td>\n",
       "      <td>Confirmado</td>\n",
       "      <td>Contacto</td>\n",
       "      <td>NaN</td>\n",
       "    </tr>\n",
       "    <tr>\n",
       "      <th>1377</th>\n",
       "      <td>1378</td>\n",
       "      <td>SAN LUIS POTOSÍ</td>\n",
       "      <td>F</td>\n",
       "      <td>41</td>\n",
       "      <td>27/03/2020</td>\n",
       "      <td>Confirmado</td>\n",
       "      <td>Estados Unidos</td>\n",
       "      <td>17/03/2020</td>\n",
       "    </tr>\n",
       "  </tbody>\n",
       "</table>\n",
       "<p>1368 rows × 8 columns</p>\n",
       "</div>"
      ],
      "text/plain": [
       "      n_caso            estado sexo  edad      inicio     estatus  \\\n",
       "0          1  CIUDAD DE MÉXICO    M    35  22/02/2020  Confirmado   \n",
       "1          2           SINALOA    M    41  22/02/2020  Confirmado   \n",
       "2          3  CIUDAD DE MÉXICO    M    59  23/02/2020  Confirmado   \n",
       "3          4          COAHUILA    F    20  27/02/2020  Confirmado   \n",
       "4          5           CHIAPAS    F    18  25/02/2020  Confirmado   \n",
       "...      ...               ...  ...   ...         ...         ...   \n",
       "1373    1374  CIUDAD DE MÉXICO    F    54  25/03/2020  Confirmado   \n",
       "1374    1375           NAYARIT    F    79  24/03/2020  Confirmado   \n",
       "1375    1376        NUEVO LEÓN    F    46  28/03/2020  Confirmado   \n",
       "1376    1377            PUEBLA    M    49  23/03/2020  Confirmado   \n",
       "1377    1378   SAN LUIS POTOSÍ    F    41  27/03/2020  Confirmado   \n",
       "\n",
       "         procedencia llegada_mexico  \n",
       "0             Italia     22/02/2020  \n",
       "1             Italia     21/02/2020  \n",
       "2             Italia     22/02/2020  \n",
       "3             Italia     25/02/2020  \n",
       "4             Italia     25/02/2020  \n",
       "...              ...            ...  \n",
       "1373        Contacto            NaN  \n",
       "1374        Contacto            NaN  \n",
       "1375        Contacto            NaN  \n",
       "1376        Contacto            NaN  \n",
       "1377  Estados Unidos     17/03/2020  \n",
       "\n",
       "[1368 rows x 8 columns]"
      ]
     },
     "execution_count": 734,
     "metadata": {},
     "output_type": "execute_result"
    }
   ],
   "source": [
    "# Delete data with \"Confirmado\" value in \"llegada_mexico\"\n",
    "data = data[data[\"llegada_mexico\"] != \"Confirmado\"]\n",
    "data"
   ]
  },
  {
   "cell_type": "code",
   "execution_count": 735,
   "metadata": {},
   "outputs": [],
   "source": [
    "# Convert data type object of \"inicio\" to time format\n",
    "data[\"inicio\"] = pd.to_datetime(data[\"inicio\"], dayfirst = True)\n"
   ]
  },
  {
   "cell_type": "code",
   "execution_count": 736,
   "metadata": {},
   "outputs": [],
   "source": [
    "# Convert data type object of \"llegada_mexico\" to time format\n",
    "data[\"llegada_mexico\"] = pd.to_datetime(data[\"llegada_mexico\"], dayfirst = True)"
   ]
  },
  {
   "cell_type": "code",
   "execution_count": 737,
   "metadata": {},
   "outputs": [
    {
     "data": {
      "text/html": [
       "<div>\n",
       "<style scoped>\n",
       "    .dataframe tbody tr th:only-of-type {\n",
       "        vertical-align: middle;\n",
       "    }\n",
       "\n",
       "    .dataframe tbody tr th {\n",
       "        vertical-align: top;\n",
       "    }\n",
       "\n",
       "    .dataframe thead th {\n",
       "        text-align: right;\n",
       "    }\n",
       "</style>\n",
       "<table border=\"1\" class=\"dataframe\">\n",
       "  <thead>\n",
       "    <tr style=\"text-align: right;\">\n",
       "      <th></th>\n",
       "      <th>n_caso</th>\n",
       "      <th>estado</th>\n",
       "      <th>sexo</th>\n",
       "      <th>edad</th>\n",
       "      <th>inicio</th>\n",
       "      <th>estatus</th>\n",
       "      <th>procedencia</th>\n",
       "      <th>llegada_mexico</th>\n",
       "    </tr>\n",
       "  </thead>\n",
       "  <tbody>\n",
       "    <tr>\n",
       "      <th>0</th>\n",
       "      <td>1</td>\n",
       "      <td>CIUDAD DE MÉXICO</td>\n",
       "      <td>M</td>\n",
       "      <td>35</td>\n",
       "      <td>2020-02-22</td>\n",
       "      <td>Confirmado</td>\n",
       "      <td>Italia</td>\n",
       "      <td>2020-02-22</td>\n",
       "    </tr>\n",
       "    <tr>\n",
       "      <th>1</th>\n",
       "      <td>2</td>\n",
       "      <td>SINALOA</td>\n",
       "      <td>M</td>\n",
       "      <td>41</td>\n",
       "      <td>2020-02-22</td>\n",
       "      <td>Confirmado</td>\n",
       "      <td>Italia</td>\n",
       "      <td>2020-02-21</td>\n",
       "    </tr>\n",
       "    <tr>\n",
       "      <th>2</th>\n",
       "      <td>3</td>\n",
       "      <td>CIUDAD DE MÉXICO</td>\n",
       "      <td>M</td>\n",
       "      <td>59</td>\n",
       "      <td>2020-02-23</td>\n",
       "      <td>Confirmado</td>\n",
       "      <td>Italia</td>\n",
       "      <td>2020-02-22</td>\n",
       "    </tr>\n",
       "  </tbody>\n",
       "</table>\n",
       "</div>"
      ],
      "text/plain": [
       "   n_caso            estado sexo  edad     inicio     estatus procedencia  \\\n",
       "0       1  CIUDAD DE MÉXICO    M    35 2020-02-22  Confirmado      Italia   \n",
       "1       2           SINALOA    M    41 2020-02-22  Confirmado      Italia   \n",
       "2       3  CIUDAD DE MÉXICO    M    59 2020-02-23  Confirmado      Italia   \n",
       "\n",
       "  llegada_mexico  \n",
       "0     2020-02-22  \n",
       "1     2020-02-21  \n",
       "2     2020-02-22  "
      ]
     },
     "execution_count": 737,
     "metadata": {},
     "output_type": "execute_result"
    }
   ],
   "source": [
    "# View the first three records to appreciate the change in data type\n",
    "data.head(3)"
   ]
  },
  {
   "cell_type": "code",
   "execution_count": 738,
   "metadata": {},
   "outputs": [
    {
     "name": "stdout",
     "output_type": "stream",
     "text": [
      "<class 'pandas.core.frame.DataFrame'>\n",
      "Int64Index: 1368 entries, 0 to 1377\n",
      "Data columns (total 8 columns):\n",
      " #   Column          Non-Null Count  Dtype         \n",
      "---  ------          --------------  -----         \n",
      " 0   n_caso          1368 non-null   int64         \n",
      " 1   estado          1368 non-null   object        \n",
      " 2   sexo            1368 non-null   object        \n",
      " 3   edad            1368 non-null   int64         \n",
      " 4   inicio          1368 non-null   datetime64[ns]\n",
      " 5   estatus         1368 non-null   object        \n",
      " 6   procedencia     1368 non-null   object        \n",
      " 7   llegada_mexico  718 non-null    datetime64[ns]\n",
      "dtypes: datetime64[ns](2), int64(2), object(4)\n",
      "memory usage: 74.8+ KB\n"
     ]
    }
   ],
   "source": [
    "# Print a concise summary of the DataFrame to view the applied change\n",
    "data.info()"
   ]
  },
  {
   "cell_type": "code",
   "execution_count": 739,
   "metadata": {},
   "outputs": [
    {
     "name": "stdout",
     "output_type": "stream",
     "text": [
      "Last update: 2020-03-31 00:00:00\n"
     ]
    },
    {
     "data": {
      "text/plain": [
       "Timestamp('2020-03-31 00:00:00')"
      ]
     },
     "execution_count": 739,
     "metadata": {},
     "output_type": "execute_result"
    }
   ],
   "source": [
    "# Date of the last update of the dataset\n",
    "print('Last update: ' + str(data.llegada_mexico.max()))\n",
    "data.llegada_mexico.max()"
   ]
  },
  {
   "cell_type": "code",
   "execution_count": 740,
   "metadata": {},
   "outputs": [
    {
     "data": {
      "text/html": [
       "<div>\n",
       "<style scoped>\n",
       "    .dataframe tbody tr th:only-of-type {\n",
       "        vertical-align: middle;\n",
       "    }\n",
       "\n",
       "    .dataframe tbody tr th {\n",
       "        vertical-align: top;\n",
       "    }\n",
       "\n",
       "    .dataframe thead th {\n",
       "        text-align: right;\n",
       "    }\n",
       "</style>\n",
       "<table border=\"1\" class=\"dataframe\">\n",
       "  <thead>\n",
       "    <tr style=\"text-align: right;\">\n",
       "      <th></th>\n",
       "      <th>n_caso</th>\n",
       "      <th>estado</th>\n",
       "      <th>sexo</th>\n",
       "      <th>edad</th>\n",
       "      <th>inicio</th>\n",
       "      <th>estatus</th>\n",
       "      <th>procedencia</th>\n",
       "      <th>llegada_mexico</th>\n",
       "    </tr>\n",
       "  </thead>\n",
       "  <tbody>\n",
       "    <tr>\n",
       "      <th>0</th>\n",
       "      <td>1</td>\n",
       "      <td>CIUDAD DE MÉXICO</td>\n",
       "      <td>M</td>\n",
       "      <td>35</td>\n",
       "      <td>2020-02-22</td>\n",
       "      <td>Confirmado</td>\n",
       "      <td>Italia</td>\n",
       "      <td>2020-02-22</td>\n",
       "    </tr>\n",
       "    <tr>\n",
       "      <th>1</th>\n",
       "      <td>2</td>\n",
       "      <td>SINALOA</td>\n",
       "      <td>M</td>\n",
       "      <td>41</td>\n",
       "      <td>2020-02-22</td>\n",
       "      <td>Confirmado</td>\n",
       "      <td>Italia</td>\n",
       "      <td>2020-02-21</td>\n",
       "    </tr>\n",
       "    <tr>\n",
       "      <th>2</th>\n",
       "      <td>3</td>\n",
       "      <td>CIUDAD DE MÉXICO</td>\n",
       "      <td>M</td>\n",
       "      <td>59</td>\n",
       "      <td>2020-02-23</td>\n",
       "      <td>Confirmado</td>\n",
       "      <td>Italia</td>\n",
       "      <td>2020-02-22</td>\n",
       "    </tr>\n",
       "    <tr>\n",
       "      <th>3</th>\n",
       "      <td>4</td>\n",
       "      <td>COAHUILA</td>\n",
       "      <td>F</td>\n",
       "      <td>20</td>\n",
       "      <td>2020-02-27</td>\n",
       "      <td>Confirmado</td>\n",
       "      <td>Italia</td>\n",
       "      <td>2020-02-25</td>\n",
       "    </tr>\n",
       "    <tr>\n",
       "      <th>4</th>\n",
       "      <td>5</td>\n",
       "      <td>CHIAPAS</td>\n",
       "      <td>F</td>\n",
       "      <td>18</td>\n",
       "      <td>2020-02-25</td>\n",
       "      <td>Confirmado</td>\n",
       "      <td>Italia</td>\n",
       "      <td>2020-02-25</td>\n",
       "    </tr>\n",
       "    <tr>\n",
       "      <th>...</th>\n",
       "      <td>...</td>\n",
       "      <td>...</td>\n",
       "      <td>...</td>\n",
       "      <td>...</td>\n",
       "      <td>...</td>\n",
       "      <td>...</td>\n",
       "      <td>...</td>\n",
       "      <td>...</td>\n",
       "    </tr>\n",
       "    <tr>\n",
       "      <th>1373</th>\n",
       "      <td>1374</td>\n",
       "      <td>CIUDAD DE MÉXICO</td>\n",
       "      <td>F</td>\n",
       "      <td>54</td>\n",
       "      <td>2020-03-25</td>\n",
       "      <td>Confirmado</td>\n",
       "      <td>Contacto</td>\n",
       "      <td>NaT</td>\n",
       "    </tr>\n",
       "    <tr>\n",
       "      <th>1374</th>\n",
       "      <td>1375</td>\n",
       "      <td>NAYARIT</td>\n",
       "      <td>F</td>\n",
       "      <td>79</td>\n",
       "      <td>2020-03-24</td>\n",
       "      <td>Confirmado</td>\n",
       "      <td>Contacto</td>\n",
       "      <td>NaT</td>\n",
       "    </tr>\n",
       "    <tr>\n",
       "      <th>1375</th>\n",
       "      <td>1376</td>\n",
       "      <td>NUEVO LEÓN</td>\n",
       "      <td>F</td>\n",
       "      <td>46</td>\n",
       "      <td>2020-03-28</td>\n",
       "      <td>Confirmado</td>\n",
       "      <td>Contacto</td>\n",
       "      <td>NaT</td>\n",
       "    </tr>\n",
       "    <tr>\n",
       "      <th>1376</th>\n",
       "      <td>1377</td>\n",
       "      <td>PUEBLA</td>\n",
       "      <td>M</td>\n",
       "      <td>49</td>\n",
       "      <td>2020-03-23</td>\n",
       "      <td>Confirmado</td>\n",
       "      <td>Contacto</td>\n",
       "      <td>NaT</td>\n",
       "    </tr>\n",
       "    <tr>\n",
       "      <th>1377</th>\n",
       "      <td>1378</td>\n",
       "      <td>SAN LUIS POTOSÍ</td>\n",
       "      <td>F</td>\n",
       "      <td>41</td>\n",
       "      <td>2020-03-27</td>\n",
       "      <td>Confirmado</td>\n",
       "      <td>Estados Unidos</td>\n",
       "      <td>2020-03-17</td>\n",
       "    </tr>\n",
       "  </tbody>\n",
       "</table>\n",
       "<p>1368 rows × 8 columns</p>\n",
       "</div>"
      ],
      "text/plain": [
       "      n_caso            estado sexo  edad     inicio     estatus  \\\n",
       "0          1  CIUDAD DE MÉXICO    M    35 2020-02-22  Confirmado   \n",
       "1          2           SINALOA    M    41 2020-02-22  Confirmado   \n",
       "2          3  CIUDAD DE MÉXICO    M    59 2020-02-23  Confirmado   \n",
       "3          4          COAHUILA    F    20 2020-02-27  Confirmado   \n",
       "4          5           CHIAPAS    F    18 2020-02-25  Confirmado   \n",
       "...      ...               ...  ...   ...        ...         ...   \n",
       "1373    1374  CIUDAD DE MÉXICO    F    54 2020-03-25  Confirmado   \n",
       "1374    1375           NAYARIT    F    79 2020-03-24  Confirmado   \n",
       "1375    1376        NUEVO LEÓN    F    46 2020-03-28  Confirmado   \n",
       "1376    1377            PUEBLA    M    49 2020-03-23  Confirmado   \n",
       "1377    1378   SAN LUIS POTOSÍ    F    41 2020-03-27  Confirmado   \n",
       "\n",
       "         procedencia llegada_mexico  \n",
       "0             Italia     2020-02-22  \n",
       "1             Italia     2020-02-21  \n",
       "2             Italia     2020-02-22  \n",
       "3             Italia     2020-02-25  \n",
       "4             Italia     2020-02-25  \n",
       "...              ...            ...  \n",
       "1373        Contacto            NaT  \n",
       "1374        Contacto            NaT  \n",
       "1375        Contacto            NaT  \n",
       "1376        Contacto            NaT  \n",
       "1377  Estados Unidos     2020-03-17  \n",
       "\n",
       "[1368 rows x 8 columns]"
      ]
     },
     "execution_count": 740,
     "metadata": {},
     "output_type": "execute_result"
    }
   ],
   "source": [
    "data"
   ]
  },
  {
   "cell_type": "code",
   "execution_count": 741,
   "metadata": {},
   "outputs": [
    {
     "data": {
      "text/plain": [
       "array(['Italia', 'Estados Unidos', 'España', 'Alemania', 'Contacto',\n",
       "       'Francia', 'Singapur'], dtype=object)"
      ]
     },
     "execution_count": 741,
     "metadata": {},
     "output_type": "execute_result"
    }
   ],
   "source": [
    "# Show where the infected came from\n",
    "data.procedencia.unique()"
   ]
  },
  {
   "cell_type": "code",
   "execution_count": 742,
   "metadata": {},
   "outputs": [
    {
     "name": "stdout",
     "output_type": "stream",
     "text": [
      "21\n"
     ]
    }
   ],
   "source": [
    "# calculate the number of infected from Italy\n",
    "italy = data[data['procedencia'] == 'Italia']\n",
    "italyCount = italy['procedencia'].count()\n",
    "print(italyCount)"
   ]
  },
  {
   "cell_type": "code",
   "execution_count": 743,
   "metadata": {},
   "outputs": [
    {
     "name": "stdout",
     "output_type": "stream",
     "text": [
      "246\n"
     ]
    }
   ],
   "source": [
    "# calculate the number of infected from Spain\n",
    "spain = data[data['procedencia'] == 'España']\n",
    "spainCount = spain['procedencia'].count()\n",
    "print(spainCount)"
   ]
  },
  {
   "cell_type": "code",
   "execution_count": 744,
   "metadata": {},
   "outputs": [
    {
     "name": "stdout",
     "output_type": "stream",
     "text": [
      "48\n"
     ]
    }
   ],
   "source": [
    "# calculate the number of infected from France \n",
    "france = data[data['procedencia'] == 'Francia']\n",
    "franceCount = france['procedencia'].count()\n",
    "print(franceCount)"
   ]
  },
  {
   "cell_type": "code",
   "execution_count": 745,
   "metadata": {},
   "outputs": [
    {
     "name": "stdout",
     "output_type": "stream",
     "text": [
      "12\n"
     ]
    }
   ],
   "source": [
    "# calculate the number of infected from Germany\n",
    "germany = data[data['procedencia'] == 'Alemania']\n",
    "germanyCount = germany['procedencia'].count()\n",
    "print(germanyCount)"
   ]
  },
  {
   "cell_type": "code",
   "execution_count": 746,
   "metadata": {},
   "outputs": [
    {
     "data": {
      "text/plain": [
       "array([35, 41, 59, 20, 18, 71, 46, 43, 30, 64, 57, 55, 58, 65, 42, 48, 38,\n",
       "       31, 37, 52, 68, 53, 73, 33, 54, 61, 45, 62, 72, 25, 23, 27, 49, 50,\n",
       "       66, 63, 32, 22, 70, 47, 39, 29, 19, 44, 74, 80, 56, 34, 21, 36, 24,\n",
       "       75, 26, 28, 17, 79, 51,  0, 77, 40, 11, 60, 76, 12, 16, 10, 88, 67,\n",
       "       69, 82,  5, 78, 81,  2,  3, 85, 15,  6,  8, 89, 13, 86,  7],\n",
       "      dtype=int64)"
      ]
     },
     "execution_count": 746,
     "metadata": {},
     "output_type": "execute_result"
    }
   ],
   "source": [
    "# Show the ages of those infected\n",
    "data.edad.unique()"
   ]
  },
  {
   "cell_type": "code",
   "execution_count": 747,
   "metadata": {},
   "outputs": [
    {
     "data": {
      "text/plain": [
       "array(['CIUDAD DE MÉXICO', 'SINALOA', 'COAHUILA', 'CHIAPAS', 'MÉXICO',\n",
       "       'QUERETARO', 'NUEVO LEÓN', 'DURANGO', 'PUEBLA', 'YUCATÁN',\n",
       "       'QUINTANA ROO', 'SAN LUIS POTOSÍ', 'JALISCO', 'OAXACA', 'GUERRERO',\n",
       "       'AGUASCALIENTES', 'GUANAJUATO', 'CHIHUAHUA', 'TAMAULIPAS',\n",
       "       'SONORA', 'VERACRUZ', 'COLIMA', 'BAJA CALIFORNIA', 'HIDALGO',\n",
       "       'TABASCO', 'MORELOS', 'NAYARIT', 'ZACATECAS',\n",
       "       'BAJA CALIFORNIA SUR', 'MICHOACÁN', 'CAMPECHE', 'TLAXCALA'],\n",
       "      dtype=object)"
      ]
     },
     "execution_count": 747,
     "metadata": {},
     "output_type": "execute_result"
    }
   ],
   "source": [
    "# Show the states where the infected are\n",
    "data.estado.unique()"
   ]
  },
  {
   "cell_type": "code",
   "execution_count": 748,
   "metadata": {},
   "outputs": [
    {
     "data": {
      "text/plain": [
       "array(['M', 'F'], dtype=object)"
      ]
     },
     "execution_count": 748,
     "metadata": {},
     "output_type": "execute_result"
    }
   ],
   "source": [
    "# Visualize the sex of those infected\n",
    "data.sexo.unique()"
   ]
  },
  {
   "cell_type": "code",
   "execution_count": 749,
   "metadata": {},
   "outputs": [
    {
     "name": "stdout",
     "output_type": "stream",
     "text": [
      "576\n"
     ]
    }
   ],
   "source": [
    "# Calculate the number of infected women\n",
    "women = data[data[\"sexo\"] == \"F\"]\n",
    "numberWomen = women.sexo.count() \n",
    "print(numberWomen)\n"
   ]
  },
  {
   "cell_type": "code",
   "execution_count": 750,
   "metadata": {},
   "outputs": [
    {
     "name": "stdout",
     "output_type": "stream",
     "text": [
      "792\n"
     ]
    }
   ],
   "source": [
    "# Calculate the number of infected men\n",
    "men = data[data[\"sexo\"] == \"M\"]\n",
    "numberMen = men.sexo.count() \n",
    "print(numberMen)"
   ]
  },
  {
   "cell_type": "code",
   "execution_count": 751,
   "metadata": {},
   "outputs": [
    {
     "data": {
      "text/plain": [
       "array(['Confirmado'], dtype=object)"
      ]
     },
     "execution_count": 751,
     "metadata": {},
     "output_type": "execute_result"
    }
   ],
   "source": [
    "# Visualize the \"estatus\" of people\n",
    "data.estatus.unique()"
   ]
  },
  {
   "cell_type": "code",
   "execution_count": 752,
   "metadata": {},
   "outputs": [
    {
     "data": {
      "text/plain": [
       "(1368, 8)"
      ]
     },
     "execution_count": 752,
     "metadata": {},
     "output_type": "execute_result"
    }
   ],
   "source": [
    "# Print the size of the data array\n",
    "data.shape"
   ]
  },
  {
   "cell_type": "markdown",
   "metadata": {},
   "source": [
    "### Creating DataFrames"
   ]
  },
  {
   "cell_type": "code",
   "execution_count": 753,
   "metadata": {},
   "outputs": [
    {
     "data": {
      "text/html": [
       "<div>\n",
       "<style scoped>\n",
       "    .dataframe tbody tr th:only-of-type {\n",
       "        vertical-align: middle;\n",
       "    }\n",
       "\n",
       "    .dataframe tbody tr th {\n",
       "        vertical-align: top;\n",
       "    }\n",
       "\n",
       "    .dataframe thead th {\n",
       "        text-align: right;\n",
       "    }\n",
       "</style>\n",
       "<table border=\"1\" class=\"dataframe\">\n",
       "  <thead>\n",
       "    <tr style=\"text-align: right;\">\n",
       "      <th></th>\n",
       "      <th>n_caso</th>\n",
       "      <th>estado</th>\n",
       "      <th>sexo</th>\n",
       "      <th>edad</th>\n",
       "      <th>inicio</th>\n",
       "      <th>estatus</th>\n",
       "      <th>procedencia</th>\n",
       "      <th>llegada_mexico</th>\n",
       "    </tr>\n",
       "  </thead>\n",
       "  <tbody>\n",
       "    <tr>\n",
       "      <th>31</th>\n",
       "      <td>32</td>\n",
       "      <td>JALISCO</td>\n",
       "      <td>F</td>\n",
       "      <td>54</td>\n",
       "      <td>2020-03-10</td>\n",
       "      <td>Confirmado</td>\n",
       "      <td>España</td>\n",
       "      <td>2020-03-04</td>\n",
       "    </tr>\n",
       "    <tr>\n",
       "      <th>32</th>\n",
       "      <td>33</td>\n",
       "      <td>JALISCO</td>\n",
       "      <td>F</td>\n",
       "      <td>64</td>\n",
       "      <td>2020-03-01</td>\n",
       "      <td>Confirmado</td>\n",
       "      <td>Alemania</td>\n",
       "      <td>2020-03-09</td>\n",
       "    </tr>\n",
       "    <tr>\n",
       "      <th>95</th>\n",
       "      <td>96</td>\n",
       "      <td>JALISCO</td>\n",
       "      <td>M</td>\n",
       "      <td>49</td>\n",
       "      <td>2020-03-06</td>\n",
       "      <td>Confirmado</td>\n",
       "      <td>España</td>\n",
       "      <td>2020-03-04</td>\n",
       "    </tr>\n",
       "    <tr>\n",
       "      <th>96</th>\n",
       "      <td>97</td>\n",
       "      <td>JALISCO</td>\n",
       "      <td>M</td>\n",
       "      <td>41</td>\n",
       "      <td>2020-03-10</td>\n",
       "      <td>Confirmado</td>\n",
       "      <td>Estados Unidos</td>\n",
       "      <td>2020-02-29</td>\n",
       "    </tr>\n",
       "    <tr>\n",
       "      <th>97</th>\n",
       "      <td>98</td>\n",
       "      <td>JALISCO</td>\n",
       "      <td>F</td>\n",
       "      <td>56</td>\n",
       "      <td>2020-03-11</td>\n",
       "      <td>Confirmado</td>\n",
       "      <td>Contacto</td>\n",
       "      <td>NaT</td>\n",
       "    </tr>\n",
       "  </tbody>\n",
       "</table>\n",
       "</div>"
      ],
      "text/plain": [
       "    n_caso   estado sexo  edad     inicio     estatus     procedencia  \\\n",
       "31      32  JALISCO    F    54 2020-03-10  Confirmado          España   \n",
       "32      33  JALISCO    F    64 2020-03-01  Confirmado        Alemania   \n",
       "95      96  JALISCO    M    49 2020-03-06  Confirmado          España   \n",
       "96      97  JALISCO    M    41 2020-03-10  Confirmado  Estados Unidos   \n",
       "97      98  JALISCO    F    56 2020-03-11  Confirmado        Contacto   \n",
       "\n",
       "   llegada_mexico  \n",
       "31     2020-03-04  \n",
       "32     2020-03-09  \n",
       "95     2020-03-04  \n",
       "96     2020-02-29  \n",
       "97            NaT  "
      ]
     },
     "execution_count": 753,
     "metadata": {},
     "output_type": "execute_result"
    }
   ],
   "source": [
    "# Jalisco DataFrame creation\n",
    "Jalisco = data[data['estado'] == 'JALISCO']\n",
    "Jalisco.head()"
   ]
  },
  {
   "cell_type": "code",
   "execution_count": 754,
   "metadata": {},
   "outputs": [
    {
     "data": {
      "text/html": [
       "<div>\n",
       "<style scoped>\n",
       "    .dataframe tbody tr th:only-of-type {\n",
       "        vertical-align: middle;\n",
       "    }\n",
       "\n",
       "    .dataframe tbody tr th {\n",
       "        vertical-align: top;\n",
       "    }\n",
       "\n",
       "    .dataframe thead th {\n",
       "        text-align: right;\n",
       "    }\n",
       "</style>\n",
       "<table border=\"1\" class=\"dataframe\">\n",
       "  <thead>\n",
       "    <tr style=\"text-align: right;\">\n",
       "      <th></th>\n",
       "      <th>n_caso</th>\n",
       "      <th>estado</th>\n",
       "      <th>sexo</th>\n",
       "      <th>edad</th>\n",
       "      <th>inicio</th>\n",
       "      <th>estatus</th>\n",
       "      <th>procedencia</th>\n",
       "      <th>llegada_mexico</th>\n",
       "    </tr>\n",
       "  </thead>\n",
       "  <tbody>\n",
       "    <tr>\n",
       "      <th>11</th>\n",
       "      <td>12</td>\n",
       "      <td>NUEVO LEÓN</td>\n",
       "      <td>M</td>\n",
       "      <td>57</td>\n",
       "      <td>2020-03-04</td>\n",
       "      <td>Confirmado</td>\n",
       "      <td>Alemania</td>\n",
       "      <td>2020-03-03</td>\n",
       "    </tr>\n",
       "    <tr>\n",
       "      <th>27</th>\n",
       "      <td>28</td>\n",
       "      <td>NUEVO LEÓN</td>\n",
       "      <td>M</td>\n",
       "      <td>73</td>\n",
       "      <td>2020-03-09</td>\n",
       "      <td>Confirmado</td>\n",
       "      <td>Estados Unidos</td>\n",
       "      <td>2020-03-10</td>\n",
       "    </tr>\n",
       "    <tr>\n",
       "      <th>28</th>\n",
       "      <td>29</td>\n",
       "      <td>NUEVO LEÓN</td>\n",
       "      <td>M</td>\n",
       "      <td>30</td>\n",
       "      <td>2020-03-09</td>\n",
       "      <td>Confirmado</td>\n",
       "      <td>España</td>\n",
       "      <td>2020-03-07</td>\n",
       "    </tr>\n",
       "    <tr>\n",
       "      <th>46</th>\n",
       "      <td>47</td>\n",
       "      <td>NUEVO LEÓN</td>\n",
       "      <td>M</td>\n",
       "      <td>27</td>\n",
       "      <td>2020-03-11</td>\n",
       "      <td>Confirmado</td>\n",
       "      <td>España</td>\n",
       "      <td>2020-03-13</td>\n",
       "    </tr>\n",
       "    <tr>\n",
       "      <th>47</th>\n",
       "      <td>48</td>\n",
       "      <td>NUEVO LEÓN</td>\n",
       "      <td>M</td>\n",
       "      <td>46</td>\n",
       "      <td>2020-03-06</td>\n",
       "      <td>Confirmado</td>\n",
       "      <td>Estados Unidos</td>\n",
       "      <td>2020-03-03</td>\n",
       "    </tr>\n",
       "  </tbody>\n",
       "</table>\n",
       "</div>"
      ],
      "text/plain": [
       "    n_caso      estado sexo  edad     inicio     estatus     procedencia  \\\n",
       "11      12  NUEVO LEÓN    M    57 2020-03-04  Confirmado        Alemania   \n",
       "27      28  NUEVO LEÓN    M    73 2020-03-09  Confirmado  Estados Unidos   \n",
       "28      29  NUEVO LEÓN    M    30 2020-03-09  Confirmado          España   \n",
       "46      47  NUEVO LEÓN    M    27 2020-03-11  Confirmado          España   \n",
       "47      48  NUEVO LEÓN    M    46 2020-03-06  Confirmado  Estados Unidos   \n",
       "\n",
       "   llegada_mexico  \n",
       "11     2020-03-03  \n",
       "27     2020-03-10  \n",
       "28     2020-03-07  \n",
       "46     2020-03-13  \n",
       "47     2020-03-03  "
      ]
     },
     "execution_count": 754,
     "metadata": {},
     "output_type": "execute_result"
    }
   ],
   "source": [
    "# Nuevo León DataFrame creation\n",
    "nuevoLeon = data[data['estado'] == 'NUEVO LEÓN']\n",
    "nuevoLeon.head()"
   ]
  },
  {
   "cell_type": "code",
   "execution_count": 755,
   "metadata": {
    "scrolled": true
   },
   "outputs": [
    {
     "data": {
      "text/html": [
       "<div>\n",
       "<style scoped>\n",
       "    .dataframe tbody tr th:only-of-type {\n",
       "        vertical-align: middle;\n",
       "    }\n",
       "\n",
       "    .dataframe tbody tr th {\n",
       "        vertical-align: top;\n",
       "    }\n",
       "\n",
       "    .dataframe thead th {\n",
       "        text-align: right;\n",
       "    }\n",
       "</style>\n",
       "<table border=\"1\" class=\"dataframe\">\n",
       "  <thead>\n",
       "    <tr style=\"text-align: right;\">\n",
       "      <th></th>\n",
       "      <th>n_caso</th>\n",
       "      <th>estado</th>\n",
       "      <th>sexo</th>\n",
       "      <th>edad</th>\n",
       "      <th>inicio</th>\n",
       "      <th>estatus</th>\n",
       "      <th>procedencia</th>\n",
       "      <th>llegada_mexico</th>\n",
       "    </tr>\n",
       "  </thead>\n",
       "  <tbody>\n",
       "    <tr>\n",
       "      <th>0</th>\n",
       "      <td>1</td>\n",
       "      <td>CIUDAD DE MÉXICO</td>\n",
       "      <td>M</td>\n",
       "      <td>35</td>\n",
       "      <td>2020-02-22</td>\n",
       "      <td>Confirmado</td>\n",
       "      <td>Italia</td>\n",
       "      <td>2020-02-22</td>\n",
       "    </tr>\n",
       "    <tr>\n",
       "      <th>2</th>\n",
       "      <td>3</td>\n",
       "      <td>CIUDAD DE MÉXICO</td>\n",
       "      <td>M</td>\n",
       "      <td>59</td>\n",
       "      <td>2020-02-23</td>\n",
       "      <td>Confirmado</td>\n",
       "      <td>Italia</td>\n",
       "      <td>2020-02-22</td>\n",
       "    </tr>\n",
       "    <tr>\n",
       "      <th>6</th>\n",
       "      <td>7</td>\n",
       "      <td>CIUDAD DE MÉXICO</td>\n",
       "      <td>M</td>\n",
       "      <td>46</td>\n",
       "      <td>2020-02-29</td>\n",
       "      <td>Confirmado</td>\n",
       "      <td>Estados Unidos</td>\n",
       "      <td>2020-02-29</td>\n",
       "    </tr>\n",
       "    <tr>\n",
       "      <th>8</th>\n",
       "      <td>9</td>\n",
       "      <td>CIUDAD DE MÉXICO</td>\n",
       "      <td>M</td>\n",
       "      <td>41</td>\n",
       "      <td>2020-03-07</td>\n",
       "      <td>Confirmado</td>\n",
       "      <td>Estados Unidos</td>\n",
       "      <td>2020-03-06</td>\n",
       "    </tr>\n",
       "    <tr>\n",
       "      <th>9</th>\n",
       "      <td>10</td>\n",
       "      <td>CIUDAD DE MÉXICO</td>\n",
       "      <td>F</td>\n",
       "      <td>30</td>\n",
       "      <td>2020-03-07</td>\n",
       "      <td>Confirmado</td>\n",
       "      <td>España</td>\n",
       "      <td>2020-03-06</td>\n",
       "    </tr>\n",
       "  </tbody>\n",
       "</table>\n",
       "</div>"
      ],
      "text/plain": [
       "   n_caso            estado sexo  edad     inicio     estatus     procedencia  \\\n",
       "0       1  CIUDAD DE MÉXICO    M    35 2020-02-22  Confirmado          Italia   \n",
       "2       3  CIUDAD DE MÉXICO    M    59 2020-02-23  Confirmado          Italia   \n",
       "6       7  CIUDAD DE MÉXICO    M    46 2020-02-29  Confirmado  Estados Unidos   \n",
       "8       9  CIUDAD DE MÉXICO    M    41 2020-03-07  Confirmado  Estados Unidos   \n",
       "9      10  CIUDAD DE MÉXICO    F    30 2020-03-07  Confirmado          España   \n",
       "\n",
       "  llegada_mexico  \n",
       "0     2020-02-22  \n",
       "2     2020-02-22  \n",
       "6     2020-02-29  \n",
       "8     2020-03-06  \n",
       "9     2020-03-06  "
      ]
     },
     "execution_count": 755,
     "metadata": {},
     "output_type": "execute_result"
    }
   ],
   "source": [
    "# Ciudad de México DataFrame creation\n",
    "ciudadMexico = data[data['estado'] == 'CIUDAD DE MÉXICO']\n",
    "ciudadMexico.head()"
   ]
  },
  {
   "cell_type": "code",
   "execution_count": 756,
   "metadata": {},
   "outputs": [
    {
     "data": {
      "text/plain": [
       "array(['2020-02-22T00:00:00.000000000', '2020-02-23T00:00:00.000000000',\n",
       "       '2020-02-29T00:00:00.000000000', '2020-03-07T00:00:00.000000000',\n",
       "       '2020-03-10T00:00:00.000000000', '2020-03-11T00:00:00.000000000',\n",
       "       '2020-03-08T00:00:00.000000000', '2020-03-04T00:00:00.000000000',\n",
       "       '2020-03-09T00:00:00.000000000', '2020-03-13T00:00:00.000000000',\n",
       "       '2020-03-06T00:00:00.000000000', '2020-03-12T00:00:00.000000000',\n",
       "       '2020-03-14T00:00:00.000000000', '2020-03-16T00:00:00.000000000',\n",
       "       '2020-03-17T00:00:00.000000000', '2020-03-15T00:00:00.000000000',\n",
       "       '2020-03-03T00:00:00.000000000', '2020-03-18T00:00:00.000000000',\n",
       "       '2020-03-20T00:00:00.000000000', '2020-03-19T00:00:00.000000000',\n",
       "       '2020-03-21T00:00:00.000000000', '2020-03-02T00:00:00.000000000',\n",
       "       '2020-03-01T00:00:00.000000000', '2020-03-22T00:00:00.000000000',\n",
       "       '2020-03-25T00:00:00.000000000', '2020-03-24T00:00:00.000000000',\n",
       "       '2020-03-23T00:00:00.000000000', '2020-03-26T00:00:00.000000000',\n",
       "       '2020-02-17T00:00:00.000000000', '2020-03-28T00:00:00.000000000',\n",
       "       '2020-03-27T00:00:00.000000000'], dtype='datetime64[ns]')"
      ]
     },
     "execution_count": 756,
     "metadata": {},
     "output_type": "execute_result"
    }
   ],
   "source": [
    "# Display start date in CDMX\n",
    "ciudadMexico.inicio.unique()"
   ]
  },
  {
   "cell_type": "code",
   "execution_count": 757,
   "metadata": {},
   "outputs": [
    {
     "name": "stdout",
     "output_type": "stream",
     "text": [
      "['2020-02-22T00:00:00.000000000' '2020-02-23T00:00:00.000000000'\n",
      " '2020-02-29T00:00:00.000000000' '2020-03-07T00:00:00.000000000'\n",
      " '2020-03-10T00:00:00.000000000' '2020-03-11T00:00:00.000000000'\n",
      " '2020-03-08T00:00:00.000000000' '2020-03-04T00:00:00.000000000'\n",
      " '2020-03-09T00:00:00.000000000' '2020-03-13T00:00:00.000000000'\n",
      " '2020-03-06T00:00:00.000000000' '2020-03-12T00:00:00.000000000'\n",
      " '2020-03-14T00:00:00.000000000' '2020-03-16T00:00:00.000000000'\n",
      " '2020-03-17T00:00:00.000000000' '2020-03-15T00:00:00.000000000'\n",
      " '2020-03-03T00:00:00.000000000' '2020-03-18T00:00:00.000000000'\n",
      " '2020-03-20T00:00:00.000000000' '2020-03-19T00:00:00.000000000'\n",
      " '2020-03-21T00:00:00.000000000' '2020-03-02T00:00:00.000000000'\n",
      " '2020-03-01T00:00:00.000000000' '2020-03-22T00:00:00.000000000'\n",
      " '2020-03-25T00:00:00.000000000' '2020-03-24T00:00:00.000000000'\n",
      " '2020-03-23T00:00:00.000000000' '2020-03-26T00:00:00.000000000'\n",
      " '2020-02-17T00:00:00.000000000' '2020-03-28T00:00:00.000000000'\n",
      " '2020-03-27T00:00:00.000000000']\n"
     ]
    }
   ],
   "source": [
    "# Create a vector with start date values\n",
    "vectorDates = ciudadMexico.inicio.unique()\n",
    "print (vectorDates)"
   ]
  },
  {
   "cell_type": "code",
   "execution_count": 758,
   "metadata": {},
   "outputs": [],
   "source": [
    "# Create a vector of zeros for CDMX frequencies\n",
    "vectorCdmx = np.zeros(31)"
   ]
  },
  {
   "cell_type": "code",
   "execution_count": 759,
   "metadata": {},
   "outputs": [
    {
     "name": "stdout",
     "output_type": "stream",
     "text": [
      "1\n"
     ]
    }
   ],
   "source": [
    "date1 = ciudadMexico[ciudadMexico[\"inicio\"] == \"2020-02-22T00:00:00.000000000\"]\n",
    "numberDate1 = date1.inicio.count() \n",
    "vectorCdmx[0] = numberDate1\n",
    "print(numberDate1)"
   ]
  },
  {
   "cell_type": "code",
   "execution_count": 760,
   "metadata": {},
   "outputs": [
    {
     "name": "stdout",
     "output_type": "stream",
     "text": [
      "1\n"
     ]
    }
   ],
   "source": [
    "date2 = ciudadMexico[ciudadMexico[\"inicio\"] == \"2020-02-23T00:00:00.000000000\"]\n",
    "numberDate2 = date2.inicio.count() \n",
    "vectorCdmx[1] = numberDate2\n",
    "print(numberDate2)"
   ]
  },
  {
   "cell_type": "code",
   "execution_count": 761,
   "metadata": {},
   "outputs": [
    {
     "name": "stdout",
     "output_type": "stream",
     "text": [
      "1\n"
     ]
    }
   ],
   "source": [
    "date3 = ciudadMexico[ciudadMexico[\"inicio\"] == \"2020-02-29T00:00:00.000000000\"]\n",
    "numberDate3 = date3.inicio.count() \n",
    "vectorCdmx[2] = numberDate3\n",
    "print(numberDate3)"
   ]
  },
  {
   "cell_type": "code",
   "execution_count": 762,
   "metadata": {},
   "outputs": [
    {
     "name": "stdout",
     "output_type": "stream",
     "text": [
      "7\n"
     ]
    }
   ],
   "source": [
    "date4 = ciudadMexico[ciudadMexico[\"inicio\"] == \"2020-03-07T00:00:00.000000000\"]\n",
    "numberDate4 = date4.inicio.count() \n",
    "vectorCdmx[3] = numberDate4\n",
    "print(numberDate4)"
   ]
  },
  {
   "cell_type": "code",
   "execution_count": 763,
   "metadata": {},
   "outputs": [
    {
     "name": "stdout",
     "output_type": "stream",
     "text": [
      "17\n"
     ]
    }
   ],
   "source": [
    "date5 = ciudadMexico[ciudadMexico[\"inicio\"] == \"2020-03-10T00:00:00.000000000\"]\n",
    "numberDate5 = date5.inicio.count() \n",
    "vectorCdmx[4] = numberDate5\n",
    "print(numberDate5)"
   ]
  },
  {
   "cell_type": "code",
   "execution_count": 764,
   "metadata": {},
   "outputs": [
    {
     "name": "stdout",
     "output_type": "stream",
     "text": [
      "13\n"
     ]
    }
   ],
   "source": [
    "date6 = ciudadMexico[ciudadMexico[\"inicio\"] == \"2020-03-11T00:00:00.000000000\"]\n",
    "numberDate6 = date6.inicio.count() \n",
    "vectorCdmx[5] = numberDate6\n",
    "print(numberDate6)"
   ]
  },
  {
   "cell_type": "code",
   "execution_count": 765,
   "metadata": {},
   "outputs": [
    {
     "name": "stdout",
     "output_type": "stream",
     "text": [
      "5\n"
     ]
    }
   ],
   "source": [
    "date7 = ciudadMexico[ciudadMexico[\"inicio\"] == \"2020-03-08T00:00:00.000000000\"]\n",
    "numberDate7 = date7.inicio.count() \n",
    "vectorCdmx[6] = numberDate7\n",
    "print(numberDate7)"
   ]
  },
  {
   "cell_type": "code",
   "execution_count": 766,
   "metadata": {},
   "outputs": [
    {
     "name": "stdout",
     "output_type": "stream",
     "text": [
      "2\n"
     ]
    }
   ],
   "source": [
    "date8 = ciudadMexico[ciudadMexico[\"inicio\"] == \"2020-03-04T00:00:00.000000000\"]\n",
    "numberDate8 = date8.inicio.count() \n",
    "vectorCdmx[7] = numberDate8\n",
    "print(numberDate8)"
   ]
  },
  {
   "cell_type": "code",
   "execution_count": 767,
   "metadata": {},
   "outputs": [
    {
     "name": "stdout",
     "output_type": "stream",
     "text": [
      "17\n"
     ]
    }
   ],
   "source": [
    "date9 = ciudadMexico[ciudadMexico[\"inicio\"] == \"2020-03-09T00:00:00.000000000\"]\n",
    "numberDate9 = date9.inicio.count() \n",
    "vectorCdmx[8] = numberDate9\n",
    "print(numberDate9)"
   ]
  },
  {
   "cell_type": "code",
   "execution_count": 768,
   "metadata": {},
   "outputs": [
    {
     "name": "stdout",
     "output_type": "stream",
     "text": [
      "18\n"
     ]
    }
   ],
   "source": [
    "date10 = ciudadMexico[ciudadMexico[\"inicio\"] == \"2020-03-13T00:00:00.000000000\"]\n",
    "numberDate10 = date10.inicio.count() \n",
    "vectorCdmx[9] = numberDate10\n",
    "print(numberDate10)"
   ]
  },
  {
   "cell_type": "code",
   "execution_count": 769,
   "metadata": {},
   "outputs": [
    {
     "name": "stdout",
     "output_type": "stream",
     "text": [
      "3\n"
     ]
    }
   ],
   "source": [
    "date11 = ciudadMexico[ciudadMexico[\"inicio\"] == \"2020-03-06T00:00:00.000000000\"]\n",
    "numberDate11 = date11.inicio.count() \n",
    "vectorCdmx[10] = numberDate11\n",
    "print(numberDate11)"
   ]
  },
  {
   "cell_type": "code",
   "execution_count": 770,
   "metadata": {},
   "outputs": [
    {
     "name": "stdout",
     "output_type": "stream",
     "text": [
      "9\n"
     ]
    }
   ],
   "source": [
    "date12 = ciudadMexico[ciudadMexico[\"inicio\"] == \"2020-03-12T00:00:00.000000000\"]\n",
    "numberDate12 = date12.inicio.count() \n",
    "vectorCdmx[11] = numberDate12\n",
    "print(numberDate12)"
   ]
  },
  {
   "cell_type": "code",
   "execution_count": 771,
   "metadata": {},
   "outputs": [
    {
     "name": "stdout",
     "output_type": "stream",
     "text": [
      "23\n"
     ]
    }
   ],
   "source": [
    "date13 = ciudadMexico[ciudadMexico[\"inicio\"] == \"2020-03-14T00:00:00.000000000\"]\n",
    "numberDate13 = date13.inicio.count() \n",
    "vectorCdmx[12] = numberDate13\n",
    "print(numberDate13)"
   ]
  },
  {
   "cell_type": "code",
   "execution_count": 772,
   "metadata": {},
   "outputs": [
    {
     "name": "stdout",
     "output_type": "stream",
     "text": [
      "24\n"
     ]
    }
   ],
   "source": [
    "date14 = ciudadMexico[ciudadMexico[\"inicio\"] == \"2020-03-16T00:00:00.000000000\"]\n",
    "numberDate14 = date14.inicio.count() \n",
    "vectorCdmx[13] = numberDate14\n",
    "print(numberDate14)"
   ]
  },
  {
   "cell_type": "code",
   "execution_count": 773,
   "metadata": {},
   "outputs": [
    {
     "name": "stdout",
     "output_type": "stream",
     "text": [
      "19\n"
     ]
    }
   ],
   "source": [
    "date15 = ciudadMexico[ciudadMexico[\"inicio\"] == \"2020-03-17T00:00:00.000000000\"]\n",
    "numberDate15 = date15.inicio.count() \n",
    "vectorCdmx[14] = numberDate15\n",
    "print(numberDate15)"
   ]
  },
  {
   "cell_type": "code",
   "execution_count": 774,
   "metadata": {},
   "outputs": [
    {
     "name": "stdout",
     "output_type": "stream",
     "text": [
      "19\n"
     ]
    }
   ],
   "source": [
    "date16 = ciudadMexico[ciudadMexico[\"inicio\"] == \"2020-03-15T00:00:00.000000000\"]\n",
    "numberDate16 = date16.inicio.count() \n",
    "vectorCdmx[15] = numberDate16\n",
    "print(numberDate16)"
   ]
  },
  {
   "cell_type": "code",
   "execution_count": 775,
   "metadata": {},
   "outputs": [
    {
     "name": "stdout",
     "output_type": "stream",
     "text": [
      "1\n"
     ]
    }
   ],
   "source": [
    "date17 = ciudadMexico[ciudadMexico[\"inicio\"] == \"2020-03-03T00:00:00.000000000\"]\n",
    "numberDate17 = date17.inicio.count() \n",
    "vectorCdmx[16] = numberDate17\n",
    "print(numberDate17)"
   ]
  },
  {
   "cell_type": "code",
   "execution_count": 776,
   "metadata": {},
   "outputs": [
    {
     "name": "stdout",
     "output_type": "stream",
     "text": [
      "16\n"
     ]
    }
   ],
   "source": [
    "date18 = ciudadMexico[ciudadMexico[\"inicio\"] == \"2020-03-18T00:00:00.000000000\"]\n",
    "numberDate18 = date18.inicio.count() \n",
    "vectorCdmx[17] = numberDate18\n",
    "print(numberDate18)"
   ]
  },
  {
   "cell_type": "code",
   "execution_count": 777,
   "metadata": {},
   "outputs": [
    {
     "name": "stdout",
     "output_type": "stream",
     "text": [
      "17\n"
     ]
    }
   ],
   "source": [
    "date19 = ciudadMexico[ciudadMexico[\"inicio\"] == \"2020-03-20T00:00:00.000000000\"]\n",
    "numberDate19 = date19.inicio.count() \n",
    "vectorCdmx[18] = numberDate19\n",
    "print(numberDate19)"
   ]
  },
  {
   "cell_type": "code",
   "execution_count": 778,
   "metadata": {},
   "outputs": [
    {
     "name": "stdout",
     "output_type": "stream",
     "text": [
      "21\n"
     ]
    }
   ],
   "source": [
    "date20 = ciudadMexico[ciudadMexico[\"inicio\"] == \"2020-03-19T00:00:00.000000000\"]\n",
    "numberDate20 = date20.inicio.count() \n",
    "vectorCdmx[19] = numberDate20\n",
    "print(numberDate20)"
   ]
  },
  {
   "cell_type": "code",
   "execution_count": 779,
   "metadata": {},
   "outputs": [
    {
     "name": "stdout",
     "output_type": "stream",
     "text": [
      "9\n"
     ]
    }
   ],
   "source": [
    "date21 = ciudadMexico[ciudadMexico[\"inicio\"] == \"2020-03-21T00:00:00.000000000\"]\n",
    "numberDate21 = date21.inicio.count() \n",
    "vectorCdmx[20] = numberDate21\n",
    "print(numberDate21)"
   ]
  },
  {
   "cell_type": "code",
   "execution_count": 780,
   "metadata": {},
   "outputs": [
    {
     "name": "stdout",
     "output_type": "stream",
     "text": [
      "1\n"
     ]
    }
   ],
   "source": [
    "date22 = ciudadMexico[ciudadMexico[\"inicio\"] == \"2020-03-02T00:00:00.000000000\"]\n",
    "numberDate22 = date22.inicio.count() \n",
    "vectorCdmx[21] = numberDate22\n",
    "print(numberDate22)"
   ]
  },
  {
   "cell_type": "code",
   "execution_count": 781,
   "metadata": {},
   "outputs": [
    {
     "name": "stdout",
     "output_type": "stream",
     "text": [
      "1\n"
     ]
    }
   ],
   "source": [
    "date23 = ciudadMexico[ciudadMexico[\"inicio\"] == \"2020-03-01T00:00:00.000000000\"]\n",
    "numberDate23 = date23.inicio.count() \n",
    "vectorCdmx[22] = numberDate23\n",
    "print(numberDate23)"
   ]
  },
  {
   "cell_type": "code",
   "execution_count": 782,
   "metadata": {},
   "outputs": [
    {
     "name": "stdout",
     "output_type": "stream",
     "text": [
      "7\n"
     ]
    }
   ],
   "source": [
    "date24 = ciudadMexico[ciudadMexico[\"inicio\"] == \"2020-03-22T00:00:00.000000000\"]\n",
    "numberDate24 = date24.inicio.count() \n",
    "vectorCdmx[23] = numberDate24\n",
    "print(numberDate24)"
   ]
  },
  {
   "cell_type": "code",
   "execution_count": 783,
   "metadata": {},
   "outputs": [
    {
     "name": "stdout",
     "output_type": "stream",
     "text": [
      "10\n"
     ]
    }
   ],
   "source": [
    "date25 = ciudadMexico[ciudadMexico[\"inicio\"] == \"2020-03-25T00:00:00.000000000\"]\n",
    "numberDate25 = date25.inicio.count() \n",
    "vectorCdmx[24] = numberDate25\n",
    "print(numberDate25)"
   ]
  },
  {
   "cell_type": "code",
   "execution_count": 784,
   "metadata": {},
   "outputs": [
    {
     "name": "stdout",
     "output_type": "stream",
     "text": [
      "10\n"
     ]
    }
   ],
   "source": [
    "date26 = ciudadMexico[ciudadMexico[\"inicio\"] == \"2020-03-24T00:00:00.000000000\"]\n",
    "numberDate26 = date26.inicio.count() \n",
    "vectorCdmx[25] = numberDate26\n",
    "print(numberDate26)"
   ]
  },
  {
   "cell_type": "code",
   "execution_count": 785,
   "metadata": {},
   "outputs": [
    {
     "name": "stdout",
     "output_type": "stream",
     "text": [
      "6\n"
     ]
    }
   ],
   "source": [
    "date27 = ciudadMexico[ciudadMexico[\"inicio\"] == \"2020-03-23T00:00:00.000000000\"]\n",
    "numberDate27 = date27.inicio.count() \n",
    "vectorCdmx[26] = numberDate27\n",
    "print(numberDate27)"
   ]
  },
  {
   "cell_type": "code",
   "execution_count": 786,
   "metadata": {},
   "outputs": [
    {
     "name": "stdout",
     "output_type": "stream",
     "text": [
      "8\n"
     ]
    }
   ],
   "source": [
    "date28 = ciudadMexico[ciudadMexico[\"inicio\"] == \"2020-03-26T00:00:00.000000000\"]\n",
    "numberDate28 = date28.inicio.count() \n",
    "vectorCdmx[27] = numberDate28\n",
    "print(numberDate28)"
   ]
  },
  {
   "cell_type": "code",
   "execution_count": 787,
   "metadata": {},
   "outputs": [
    {
     "name": "stdout",
     "output_type": "stream",
     "text": [
      "19\n"
     ]
    }
   ],
   "source": [
    "date29 = ciudadMexico[ciudadMexico[\"inicio\"] == \"2020-03-17T00:00:00.000000000\"]\n",
    "numberDate29 = date29.inicio.count() \n",
    "vectorCdmx[28] = numberDate29\n",
    "print(numberDate29)"
   ]
  },
  {
   "cell_type": "code",
   "execution_count": 788,
   "metadata": {},
   "outputs": [
    {
     "name": "stdout",
     "output_type": "stream",
     "text": [
      "1\n"
     ]
    }
   ],
   "source": [
    "date30 = ciudadMexico[ciudadMexico[\"inicio\"] == \"2020-03-28T00:00:00.000000000\"]\n",
    "numberDate30 = date30.inicio.count() \n",
    "vectorCdmx[29] = numberDate30\n",
    "print(numberDate30)"
   ]
  },
  {
   "cell_type": "code",
   "execution_count": 789,
   "metadata": {},
   "outputs": [
    {
     "name": "stdout",
     "output_type": "stream",
     "text": [
      "5\n"
     ]
    }
   ],
   "source": [
    "date31 = ciudadMexico[ciudadMexico[\"inicio\"] == \"2020-03-27T00:00:00.000000000\"]\n",
    "numberDate31 = date31.inicio.count() \n",
    "vectorCdmx[30] = numberDate31\n",
    "print(numberDate31)"
   ]
  },
  {
   "cell_type": "code",
   "execution_count": 790,
   "metadata": {},
   "outputs": [
    {
     "name": "stdout",
     "output_type": "stream",
     "text": [
      "[ 1.  1.  1.  7. 17. 13.  5.  2. 17. 18.  3.  9. 23. 24. 19. 19.  1. 16.\n",
      " 17. 21.  9.  1.  1.  7. 10. 10.  6.  8. 19.  1.  5.]\n"
     ]
    }
   ],
   "source": [
    "# Display the frequency vector\n",
    "print(vectorCdmx)"
   ]
  },
  {
   "cell_type": "code",
   "execution_count": 791,
   "metadata": {
    "scrolled": true
   },
   "outputs": [
    {
     "data": {
      "text/html": [
       "<div>\n",
       "<style scoped>\n",
       "    .dataframe tbody tr th:only-of-type {\n",
       "        vertical-align: middle;\n",
       "    }\n",
       "\n",
       "    .dataframe tbody tr th {\n",
       "        vertical-align: top;\n",
       "    }\n",
       "\n",
       "    .dataframe thead th {\n",
       "        text-align: right;\n",
       "    }\n",
       "</style>\n",
       "<table border=\"1\" class=\"dataframe\">\n",
       "  <thead>\n",
       "    <tr style=\"text-align: right;\">\n",
       "      <th></th>\n",
       "      <th>n_caso</th>\n",
       "      <th>estado</th>\n",
       "      <th>sexo</th>\n",
       "      <th>edad</th>\n",
       "      <th>inicio</th>\n",
       "      <th>estatus</th>\n",
       "      <th>procedencia</th>\n",
       "      <th>llegada_mexico</th>\n",
       "    </tr>\n",
       "  </thead>\n",
       "  <tbody>\n",
       "    <tr>\n",
       "      <th>3</th>\n",
       "      <td>4</td>\n",
       "      <td>COAHUILA</td>\n",
       "      <td>F</td>\n",
       "      <td>20</td>\n",
       "      <td>2020-02-27</td>\n",
       "      <td>Confirmado</td>\n",
       "      <td>Italia</td>\n",
       "      <td>2020-02-25</td>\n",
       "    </tr>\n",
       "    <tr>\n",
       "      <th>282</th>\n",
       "      <td>283</td>\n",
       "      <td>COAHUILA</td>\n",
       "      <td>F</td>\n",
       "      <td>41</td>\n",
       "      <td>2020-03-18</td>\n",
       "      <td>Confirmado</td>\n",
       "      <td>España</td>\n",
       "      <td>2020-03-14</td>\n",
       "    </tr>\n",
       "    <tr>\n",
       "      <th>286</th>\n",
       "      <td>287</td>\n",
       "      <td>COAHUILA</td>\n",
       "      <td>M</td>\n",
       "      <td>29</td>\n",
       "      <td>2020-03-17</td>\n",
       "      <td>Confirmado</td>\n",
       "      <td>Estados Unidos</td>\n",
       "      <td>2020-03-15</td>\n",
       "    </tr>\n",
       "    <tr>\n",
       "      <th>318</th>\n",
       "      <td>319</td>\n",
       "      <td>COAHUILA</td>\n",
       "      <td>M</td>\n",
       "      <td>43</td>\n",
       "      <td>2020-03-16</td>\n",
       "      <td>Confirmado</td>\n",
       "      <td>Estados Unidos</td>\n",
       "      <td>2020-03-13</td>\n",
       "    </tr>\n",
       "    <tr>\n",
       "      <th>329</th>\n",
       "      <td>330</td>\n",
       "      <td>COAHUILA</td>\n",
       "      <td>M</td>\n",
       "      <td>42</td>\n",
       "      <td>2020-03-18</td>\n",
       "      <td>Confirmado</td>\n",
       "      <td>Estados Unidos</td>\n",
       "      <td>2020-03-11</td>\n",
       "    </tr>\n",
       "  </tbody>\n",
       "</table>\n",
       "</div>"
      ],
      "text/plain": [
       "     n_caso    estado sexo  edad     inicio     estatus     procedencia  \\\n",
       "3         4  COAHUILA    F    20 2020-02-27  Confirmado          Italia   \n",
       "282     283  COAHUILA    F    41 2020-03-18  Confirmado          España   \n",
       "286     287  COAHUILA    M    29 2020-03-17  Confirmado  Estados Unidos   \n",
       "318     319  COAHUILA    M    43 2020-03-16  Confirmado  Estados Unidos   \n",
       "329     330  COAHUILA    M    42 2020-03-18  Confirmado  Estados Unidos   \n",
       "\n",
       "    llegada_mexico  \n",
       "3       2020-02-25  \n",
       "282     2020-03-14  \n",
       "286     2020-03-15  \n",
       "318     2020-03-13  \n",
       "329     2020-03-11  "
      ]
     },
     "execution_count": 791,
     "metadata": {},
     "output_type": "execute_result"
    }
   ],
   "source": [
    "# Coahuila DataFrame creation \n",
    "Coahuila = data[data['estado'] == 'COAHUILA']\n",
    "Coahuila.head()"
   ]
  },
  {
   "cell_type": "markdown",
   "metadata": {},
   "source": [
    "### Data cleaning"
   ]
  },
  {
   "cell_type": "code",
   "execution_count": 792,
   "metadata": {},
   "outputs": [
    {
     "name": "stderr",
     "output_type": "stream",
     "text": [
      "<ipython-input-792-0bf9ce2c0801>:5: SettingWithCopyWarning:\n",
      "\n",
      "\n",
      "A value is trying to be set on a copy of a slice from a DataFrame\n",
      "\n",
      "See the caveats in the documentation: https://pandas.pydata.org/pandas-docs/stable/user_guide/indexing.html#returning-a-view-versus-a-copy\n",
      "\n"
     ]
    },
    {
     "data": {
      "text/html": [
       "<div>\n",
       "<style scoped>\n",
       "    .dataframe tbody tr th:only-of-type {\n",
       "        vertical-align: middle;\n",
       "    }\n",
       "\n",
       "    .dataframe tbody tr th {\n",
       "        vertical-align: top;\n",
       "    }\n",
       "\n",
       "    .dataframe thead th {\n",
       "        text-align: right;\n",
       "    }\n",
       "</style>\n",
       "<table border=\"1\" class=\"dataframe\">\n",
       "  <thead>\n",
       "    <tr style=\"text-align: right;\">\n",
       "      <th></th>\n",
       "      <th>n_caso</th>\n",
       "      <th>estado</th>\n",
       "      <th>sexo</th>\n",
       "      <th>edad</th>\n",
       "      <th>inicio</th>\n",
       "      <th>estatus</th>\n",
       "      <th>procedencia</th>\n",
       "      <th>llegada_mexico</th>\n",
       "    </tr>\n",
       "  </thead>\n",
       "  <tbody>\n",
       "    <tr>\n",
       "      <th>0</th>\n",
       "      <td>1</td>\n",
       "      <td>CIUDAD DE MÉXICO</td>\n",
       "      <td>M</td>\n",
       "      <td>35</td>\n",
       "      <td>2020-02-22</td>\n",
       "      <td>Confirmado</td>\n",
       "      <td>Italia</td>\n",
       "      <td>2020-02-22</td>\n",
       "    </tr>\n",
       "    <tr>\n",
       "      <th>1</th>\n",
       "      <td>2</td>\n",
       "      <td>SINALOA</td>\n",
       "      <td>M</td>\n",
       "      <td>41</td>\n",
       "      <td>2020-02-22</td>\n",
       "      <td>Confirmado</td>\n",
       "      <td>Italia</td>\n",
       "      <td>2020-02-21</td>\n",
       "    </tr>\n",
       "    <tr>\n",
       "      <th>2</th>\n",
       "      <td>3</td>\n",
       "      <td>CIUDAD DE MÉXICO</td>\n",
       "      <td>M</td>\n",
       "      <td>59</td>\n",
       "      <td>2020-02-23</td>\n",
       "      <td>Confirmado</td>\n",
       "      <td>Italia</td>\n",
       "      <td>2020-02-22</td>\n",
       "    </tr>\n",
       "    <tr>\n",
       "      <th>3</th>\n",
       "      <td>4</td>\n",
       "      <td>COAHUILA</td>\n",
       "      <td>F</td>\n",
       "      <td>20</td>\n",
       "      <td>2020-02-27</td>\n",
       "      <td>Confirmado</td>\n",
       "      <td>Italia</td>\n",
       "      <td>2020-02-25</td>\n",
       "    </tr>\n",
       "    <tr>\n",
       "      <th>4</th>\n",
       "      <td>5</td>\n",
       "      <td>CHIAPAS</td>\n",
       "      <td>F</td>\n",
       "      <td>18</td>\n",
       "      <td>2020-02-25</td>\n",
       "      <td>Confirmado</td>\n",
       "      <td>Italia</td>\n",
       "      <td>2020-02-25</td>\n",
       "    </tr>\n",
       "    <tr>\n",
       "      <th>...</th>\n",
       "      <td>...</td>\n",
       "      <td>...</td>\n",
       "      <td>...</td>\n",
       "      <td>...</td>\n",
       "      <td>...</td>\n",
       "      <td>...</td>\n",
       "      <td>...</td>\n",
       "      <td>...</td>\n",
       "    </tr>\n",
       "    <tr>\n",
       "      <th>1373</th>\n",
       "      <td>1374</td>\n",
       "      <td>CIUDAD DE MÉXICO</td>\n",
       "      <td>F</td>\n",
       "      <td>54</td>\n",
       "      <td>2020-03-25</td>\n",
       "      <td>Confirmado</td>\n",
       "      <td>NaN</td>\n",
       "      <td>NaT</td>\n",
       "    </tr>\n",
       "    <tr>\n",
       "      <th>1374</th>\n",
       "      <td>1375</td>\n",
       "      <td>NAYARIT</td>\n",
       "      <td>F</td>\n",
       "      <td>79</td>\n",
       "      <td>2020-03-24</td>\n",
       "      <td>Confirmado</td>\n",
       "      <td>NaN</td>\n",
       "      <td>NaT</td>\n",
       "    </tr>\n",
       "    <tr>\n",
       "      <th>1375</th>\n",
       "      <td>1376</td>\n",
       "      <td>NUEVO LEÓN</td>\n",
       "      <td>F</td>\n",
       "      <td>46</td>\n",
       "      <td>2020-03-28</td>\n",
       "      <td>Confirmado</td>\n",
       "      <td>NaN</td>\n",
       "      <td>NaT</td>\n",
       "    </tr>\n",
       "    <tr>\n",
       "      <th>1376</th>\n",
       "      <td>1377</td>\n",
       "      <td>PUEBLA</td>\n",
       "      <td>M</td>\n",
       "      <td>49</td>\n",
       "      <td>2020-03-23</td>\n",
       "      <td>Confirmado</td>\n",
       "      <td>NaN</td>\n",
       "      <td>NaT</td>\n",
       "    </tr>\n",
       "    <tr>\n",
       "      <th>1377</th>\n",
       "      <td>1378</td>\n",
       "      <td>SAN LUIS POTOSÍ</td>\n",
       "      <td>F</td>\n",
       "      <td>41</td>\n",
       "      <td>2020-03-27</td>\n",
       "      <td>Confirmado</td>\n",
       "      <td>Estados Unidos</td>\n",
       "      <td>2020-03-17</td>\n",
       "    </tr>\n",
       "  </tbody>\n",
       "</table>\n",
       "<p>1368 rows × 8 columns</p>\n",
       "</div>"
      ],
      "text/plain": [
       "      n_caso            estado sexo  edad     inicio     estatus  \\\n",
       "0          1  CIUDAD DE MÉXICO    M    35 2020-02-22  Confirmado   \n",
       "1          2           SINALOA    M    41 2020-02-22  Confirmado   \n",
       "2          3  CIUDAD DE MÉXICO    M    59 2020-02-23  Confirmado   \n",
       "3          4          COAHUILA    F    20 2020-02-27  Confirmado   \n",
       "4          5           CHIAPAS    F    18 2020-02-25  Confirmado   \n",
       "...      ...               ...  ...   ...        ...         ...   \n",
       "1373    1374  CIUDAD DE MÉXICO    F    54 2020-03-25  Confirmado   \n",
       "1374    1375           NAYARIT    F    79 2020-03-24  Confirmado   \n",
       "1375    1376        NUEVO LEÓN    F    46 2020-03-28  Confirmado   \n",
       "1376    1377            PUEBLA    M    49 2020-03-23  Confirmado   \n",
       "1377    1378   SAN LUIS POTOSÍ    F    41 2020-03-27  Confirmado   \n",
       "\n",
       "         procedencia llegada_mexico  \n",
       "0             Italia     2020-02-22  \n",
       "1             Italia     2020-02-21  \n",
       "2             Italia     2020-02-22  \n",
       "3             Italia     2020-02-25  \n",
       "4             Italia     2020-02-25  \n",
       "...              ...            ...  \n",
       "1373             NaN            NaT  \n",
       "1374             NaN            NaT  \n",
       "1375             NaN            NaT  \n",
       "1376             NaN            NaT  \n",
       "1377  Estados Unidos     2020-03-17  \n",
       "\n",
       "[1368 rows x 8 columns]"
      ]
     },
     "execution_count": 792,
     "metadata": {},
     "output_type": "execute_result"
    }
   ],
   "source": [
    "# Initialize the Numpy matrix with NaN values for those who acquired the virus by contagion\n",
    "datos_Procedencia_raros = ['Contacto',\n",
    "        '13/03/2020', '15/03/2020', '17/03/2020',\n",
    "        '20/03/2020', '09/03/2020', '24/03/2020']\n",
    "data[\"procedencia\"][data.procedencia.isin(datos_Procedencia_raros)] = np.nan\n",
    "data"
   ]
  },
  {
   "cell_type": "code",
   "execution_count": 793,
   "metadata": {},
   "outputs": [
    {
     "name": "stdout",
     "output_type": "stream",
     "text": [
      "766\n"
     ]
    }
   ],
   "source": [
    "# Calculate the number of infected within Mexico\n",
    "contagiados = data.procedencia.isnull().sum()\n",
    "print(contagiados)"
   ]
  },
  {
   "cell_type": "code",
   "execution_count": 794,
   "metadata": {},
   "outputs": [
    {
     "name": "stdout",
     "output_type": "stream",
     "text": [
      "602\n"
     ]
    }
   ],
   "source": [
    "# Calculate the number of infected abroad\n",
    "extranjero = data.procedencia.count()\n",
    "print(extranjero)"
   ]
  },
  {
   "cell_type": "code",
   "execution_count": 795,
   "metadata": {},
   "outputs": [
    {
     "data": {
      "text/plain": [
       "n_caso              0\n",
       "estado              0\n",
       "sexo                0\n",
       "edad                0\n",
       "inicio              0\n",
       "estatus             0\n",
       "procedencia       766\n",
       "llegada_mexico    650\n",
       "dtype: int64"
      ]
     },
     "execution_count": 795,
     "metadata": {},
     "output_type": "execute_result"
    }
   ],
   "source": [
    "# Determine the number of null values\n",
    "data.isnull().sum()"
   ]
  },
  {
   "cell_type": "code",
   "execution_count": 796,
   "metadata": {},
   "outputs": [
    {
     "data": {
      "text/plain": [
       "n_caso             0.00\n",
       "estado             0.00\n",
       "sexo               0.00\n",
       "edad               0.00\n",
       "inicio             0.00\n",
       "estatus            0.00\n",
       "procedencia       95.75\n",
       "llegada_mexico    81.25\n",
       "dtype: float64"
      ]
     },
     "execution_count": 796,
     "metadata": {},
     "output_type": "execute_result"
    }
   ],
   "source": [
    "# Calculate the percentage of null values\n",
    "data.isnull().sum()/data.shape[1]"
   ]
  },
  {
   "cell_type": "code",
   "execution_count": 797,
   "metadata": {},
   "outputs": [],
   "source": [
    "# Change the null values of \"procedencia\" to the values of \"estado\"\n",
    "data['procedencia'].fillna(data['estado'], inplace = True)"
   ]
  },
  {
   "cell_type": "code",
   "execution_count": 798,
   "metadata": {},
   "outputs": [
    {
     "data": {
      "text/plain": [
       "n_caso              0\n",
       "estado              0\n",
       "sexo                0\n",
       "edad                0\n",
       "inicio              0\n",
       "estatus             0\n",
       "procedencia         0\n",
       "llegada_mexico    650\n",
       "dtype: int64"
      ]
     },
     "execution_count": 798,
     "metadata": {},
     "output_type": "execute_result"
    }
   ],
   "source": [
    "# Verify that the change of values has been made\n",
    "data.isnull().sum()"
   ]
  },
  {
   "cell_type": "code",
   "execution_count": 799,
   "metadata": {},
   "outputs": [],
   "source": [
    "# Change the null values of \"llegada_mexico\" to the values of \"inicio\"\n",
    "data['llegada_mexico'].fillna(data['inicio'], inplace = True)"
   ]
  },
  {
   "cell_type": "code",
   "execution_count": 800,
   "metadata": {},
   "outputs": [
    {
     "data": {
      "text/plain": [
       "n_caso            0\n",
       "estado            0\n",
       "sexo              0\n",
       "edad              0\n",
       "inicio            0\n",
       "estatus           0\n",
       "procedencia       0\n",
       "llegada_mexico    0\n",
       "dtype: int64"
      ]
     },
     "execution_count": 800,
     "metadata": {},
     "output_type": "execute_result"
    }
   ],
   "source": [
    "# Verify that the change of values has been made\n",
    "data.isnull().sum()"
   ]
  },
  {
   "cell_type": "code",
   "execution_count": 801,
   "metadata": {},
   "outputs": [
    {
     "data": {
      "text/html": [
       "<div>\n",
       "<style scoped>\n",
       "    .dataframe tbody tr th:only-of-type {\n",
       "        vertical-align: middle;\n",
       "    }\n",
       "\n",
       "    .dataframe tbody tr th {\n",
       "        vertical-align: top;\n",
       "    }\n",
       "\n",
       "    .dataframe thead th {\n",
       "        text-align: right;\n",
       "    }\n",
       "</style>\n",
       "<table border=\"1\" class=\"dataframe\">\n",
       "  <thead>\n",
       "    <tr style=\"text-align: right;\">\n",
       "      <th></th>\n",
       "      <th>n_caso</th>\n",
       "      <th>estado</th>\n",
       "      <th>sexo</th>\n",
       "      <th>edad</th>\n",
       "      <th>inicio</th>\n",
       "      <th>estatus</th>\n",
       "      <th>procedencia</th>\n",
       "      <th>llegada_mexico</th>\n",
       "      <th>first_date</th>\n",
       "      <th>days</th>\n",
       "    </tr>\n",
       "  </thead>\n",
       "  <tbody>\n",
       "    <tr>\n",
       "      <th>1150</th>\n",
       "      <td>1151</td>\n",
       "      <td>CIUDAD DE MÉXICO</td>\n",
       "      <td>M</td>\n",
       "      <td>41</td>\n",
       "      <td>2020-02-17</td>\n",
       "      <td>Confirmado</td>\n",
       "      <td>CIUDAD DE MÉXICO</td>\n",
       "      <td>2020-02-17</td>\n",
       "      <td>2020-02-17</td>\n",
       "      <td>0</td>\n",
       "    </tr>\n",
       "    <tr>\n",
       "      <th>316</th>\n",
       "      <td>317</td>\n",
       "      <td>MÉXICO</td>\n",
       "      <td>M</td>\n",
       "      <td>44</td>\n",
       "      <td>2020-02-19</td>\n",
       "      <td>Confirmado</td>\n",
       "      <td>Italia</td>\n",
       "      <td>2020-02-22</td>\n",
       "      <td>2020-02-19</td>\n",
       "      <td>0</td>\n",
       "    </tr>\n",
       "    <tr>\n",
       "      <th>791</th>\n",
       "      <td>792</td>\n",
       "      <td>YUCATÁN</td>\n",
       "      <td>F</td>\n",
       "      <td>37</td>\n",
       "      <td>2020-02-19</td>\n",
       "      <td>Confirmado</td>\n",
       "      <td>YUCATÁN</td>\n",
       "      <td>2020-01-21</td>\n",
       "      <td>2020-02-19</td>\n",
       "      <td>0</td>\n",
       "    </tr>\n",
       "    <tr>\n",
       "      <th>5</th>\n",
       "      <td>6</td>\n",
       "      <td>MÉXICO</td>\n",
       "      <td>M</td>\n",
       "      <td>71</td>\n",
       "      <td>2020-02-21</td>\n",
       "      <td>Confirmado</td>\n",
       "      <td>Italia</td>\n",
       "      <td>2020-02-21</td>\n",
       "      <td>2020-02-19</td>\n",
       "      <td>2</td>\n",
       "    </tr>\n",
       "    <tr>\n",
       "      <th>0</th>\n",
       "      <td>1</td>\n",
       "      <td>CIUDAD DE MÉXICO</td>\n",
       "      <td>M</td>\n",
       "      <td>35</td>\n",
       "      <td>2020-02-22</td>\n",
       "      <td>Confirmado</td>\n",
       "      <td>Italia</td>\n",
       "      <td>2020-02-22</td>\n",
       "      <td>2020-02-17</td>\n",
       "      <td>5</td>\n",
       "    </tr>\n",
       "    <tr>\n",
       "      <th>1</th>\n",
       "      <td>2</td>\n",
       "      <td>SINALOA</td>\n",
       "      <td>M</td>\n",
       "      <td>41</td>\n",
       "      <td>2020-02-22</td>\n",
       "      <td>Confirmado</td>\n",
       "      <td>Italia</td>\n",
       "      <td>2020-02-21</td>\n",
       "      <td>2020-02-22</td>\n",
       "      <td>0</td>\n",
       "    </tr>\n",
       "    <tr>\n",
       "      <th>1168</th>\n",
       "      <td>1169</td>\n",
       "      <td>CAMPECHE</td>\n",
       "      <td>F</td>\n",
       "      <td>60</td>\n",
       "      <td>2020-02-23</td>\n",
       "      <td>Confirmado</td>\n",
       "      <td>CAMPECHE</td>\n",
       "      <td>2020-02-23</td>\n",
       "      <td>2020-02-23</td>\n",
       "      <td>0</td>\n",
       "    </tr>\n",
       "    <tr>\n",
       "      <th>2</th>\n",
       "      <td>3</td>\n",
       "      <td>CIUDAD DE MÉXICO</td>\n",
       "      <td>M</td>\n",
       "      <td>59</td>\n",
       "      <td>2020-02-23</td>\n",
       "      <td>Confirmado</td>\n",
       "      <td>Italia</td>\n",
       "      <td>2020-02-22</td>\n",
       "      <td>2020-02-17</td>\n",
       "      <td>6</td>\n",
       "    </tr>\n",
       "    <tr>\n",
       "      <th>4</th>\n",
       "      <td>5</td>\n",
       "      <td>CHIAPAS</td>\n",
       "      <td>F</td>\n",
       "      <td>18</td>\n",
       "      <td>2020-02-25</td>\n",
       "      <td>Confirmado</td>\n",
       "      <td>Italia</td>\n",
       "      <td>2020-02-25</td>\n",
       "      <td>2020-02-25</td>\n",
       "      <td>0</td>\n",
       "    </tr>\n",
       "  </tbody>\n",
       "</table>\n",
       "</div>"
      ],
      "text/plain": [
       "      n_caso            estado sexo  edad     inicio     estatus  \\\n",
       "1150    1151  CIUDAD DE MÉXICO    M    41 2020-02-17  Confirmado   \n",
       "316      317            MÉXICO    M    44 2020-02-19  Confirmado   \n",
       "791      792           YUCATÁN    F    37 2020-02-19  Confirmado   \n",
       "5          6            MÉXICO    M    71 2020-02-21  Confirmado   \n",
       "0          1  CIUDAD DE MÉXICO    M    35 2020-02-22  Confirmado   \n",
       "1          2           SINALOA    M    41 2020-02-22  Confirmado   \n",
       "1168    1169          CAMPECHE    F    60 2020-02-23  Confirmado   \n",
       "2          3  CIUDAD DE MÉXICO    M    59 2020-02-23  Confirmado   \n",
       "4          5           CHIAPAS    F    18 2020-02-25  Confirmado   \n",
       "\n",
       "           procedencia llegada_mexico first_date  days  \n",
       "1150  CIUDAD DE MÉXICO     2020-02-17 2020-02-17     0  \n",
       "316             Italia     2020-02-22 2020-02-19     0  \n",
       "791            YUCATÁN     2020-01-21 2020-02-19     0  \n",
       "5               Italia     2020-02-21 2020-02-19     2  \n",
       "0               Italia     2020-02-22 2020-02-17     5  \n",
       "1               Italia     2020-02-21 2020-02-22     0  \n",
       "1168          CAMPECHE     2020-02-23 2020-02-23     0  \n",
       "2               Italia     2020-02-22 2020-02-17     6  \n",
       "4               Italia     2020-02-25 2020-02-25     0  "
      ]
     },
     "execution_count": 801,
     "metadata": {},
     "output_type": "execute_result"
    }
   ],
   "source": [
    "# Sort the values by confirmed cases\n",
    "data = data.sort_values(['inicio','estado'])\n",
    "\n",
    "data['first_date'] = data.groupby('estado')['inicio'].transform('min')\n",
    "data['days'] = (data['inicio'] - data['first_date']).dt.days\n",
    "\n",
    "data.head(9)\n"
   ]
  },
  {
   "cell_type": "code",
   "execution_count": 802,
   "metadata": {},
   "outputs": [
    {
     "data": {
      "text/html": [
       "<div>\n",
       "<style scoped>\n",
       "    .dataframe tbody tr th:only-of-type {\n",
       "        vertical-align: middle;\n",
       "    }\n",
       "\n",
       "    .dataframe tbody tr th {\n",
       "        vertical-align: top;\n",
       "    }\n",
       "\n",
       "    .dataframe thead th {\n",
       "        text-align: right;\n",
       "    }\n",
       "</style>\n",
       "<table border=\"1\" class=\"dataframe\">\n",
       "  <thead>\n",
       "    <tr style=\"text-align: right;\">\n",
       "      <th></th>\n",
       "      <th>n_caso</th>\n",
       "      <th>estado</th>\n",
       "      <th>sexo</th>\n",
       "      <th>edad</th>\n",
       "      <th>inicio</th>\n",
       "      <th>estatus</th>\n",
       "      <th>procedencia</th>\n",
       "      <th>llegada_mexico</th>\n",
       "      <th>first_date</th>\n",
       "      <th>days</th>\n",
       "    </tr>\n",
       "  </thead>\n",
       "  <tbody>\n",
       "    <tr>\n",
       "      <th>1150</th>\n",
       "      <td>1151</td>\n",
       "      <td>CIUDAD DE MÉXICO</td>\n",
       "      <td>M</td>\n",
       "      <td>41</td>\n",
       "      <td>2020-02-17</td>\n",
       "      <td>Confirmado</td>\n",
       "      <td>CIUDAD DE MÉXICO</td>\n",
       "      <td>2020-02-17</td>\n",
       "      <td>2020-02-17</td>\n",
       "      <td>0</td>\n",
       "    </tr>\n",
       "    <tr>\n",
       "      <th>316</th>\n",
       "      <td>317</td>\n",
       "      <td>MÉXICO</td>\n",
       "      <td>M</td>\n",
       "      <td>44</td>\n",
       "      <td>2020-02-19</td>\n",
       "      <td>Confirmado</td>\n",
       "      <td>Italia</td>\n",
       "      <td>2020-02-22</td>\n",
       "      <td>2020-02-19</td>\n",
       "      <td>0</td>\n",
       "    </tr>\n",
       "    <tr>\n",
       "      <th>791</th>\n",
       "      <td>792</td>\n",
       "      <td>YUCATÁN</td>\n",
       "      <td>F</td>\n",
       "      <td>37</td>\n",
       "      <td>2020-02-19</td>\n",
       "      <td>Confirmado</td>\n",
       "      <td>YUCATÁN</td>\n",
       "      <td>2020-01-21</td>\n",
       "      <td>2020-02-19</td>\n",
       "      <td>0</td>\n",
       "    </tr>\n",
       "    <tr>\n",
       "      <th>5</th>\n",
       "      <td>6</td>\n",
       "      <td>MÉXICO</td>\n",
       "      <td>M</td>\n",
       "      <td>71</td>\n",
       "      <td>2020-02-21</td>\n",
       "      <td>Confirmado</td>\n",
       "      <td>Italia</td>\n",
       "      <td>2020-02-21</td>\n",
       "      <td>2020-02-19</td>\n",
       "      <td>2</td>\n",
       "    </tr>\n",
       "    <tr>\n",
       "      <th>0</th>\n",
       "      <td>1</td>\n",
       "      <td>CIUDAD DE MÉXICO</td>\n",
       "      <td>M</td>\n",
       "      <td>35</td>\n",
       "      <td>2020-02-22</td>\n",
       "      <td>Confirmado</td>\n",
       "      <td>Italia</td>\n",
       "      <td>2020-02-22</td>\n",
       "      <td>2020-02-17</td>\n",
       "      <td>5</td>\n",
       "    </tr>\n",
       "    <tr>\n",
       "      <th>1</th>\n",
       "      <td>2</td>\n",
       "      <td>SINALOA</td>\n",
       "      <td>M</td>\n",
       "      <td>41</td>\n",
       "      <td>2020-02-22</td>\n",
       "      <td>Confirmado</td>\n",
       "      <td>Italia</td>\n",
       "      <td>2020-02-21</td>\n",
       "      <td>2020-02-22</td>\n",
       "      <td>0</td>\n",
       "    </tr>\n",
       "    <tr>\n",
       "      <th>1168</th>\n",
       "      <td>1169</td>\n",
       "      <td>CAMPECHE</td>\n",
       "      <td>F</td>\n",
       "      <td>60</td>\n",
       "      <td>2020-02-23</td>\n",
       "      <td>Confirmado</td>\n",
       "      <td>CAMPECHE</td>\n",
       "      <td>2020-02-23</td>\n",
       "      <td>2020-02-23</td>\n",
       "      <td>0</td>\n",
       "    </tr>\n",
       "  </tbody>\n",
       "</table>\n",
       "</div>"
      ],
      "text/plain": [
       "      n_caso            estado sexo  edad     inicio     estatus  \\\n",
       "1150    1151  CIUDAD DE MÉXICO    M    41 2020-02-17  Confirmado   \n",
       "316      317            MÉXICO    M    44 2020-02-19  Confirmado   \n",
       "791      792           YUCATÁN    F    37 2020-02-19  Confirmado   \n",
       "5          6            MÉXICO    M    71 2020-02-21  Confirmado   \n",
       "0          1  CIUDAD DE MÉXICO    M    35 2020-02-22  Confirmado   \n",
       "1          2           SINALOA    M    41 2020-02-22  Confirmado   \n",
       "1168    1169          CAMPECHE    F    60 2020-02-23  Confirmado   \n",
       "\n",
       "           procedencia llegada_mexico first_date  days  \n",
       "1150  CIUDAD DE MÉXICO     2020-02-17 2020-02-17     0  \n",
       "316             Italia     2020-02-22 2020-02-19     0  \n",
       "791            YUCATÁN     2020-01-21 2020-02-19     0  \n",
       "5               Italia     2020-02-21 2020-02-19     2  \n",
       "0               Italia     2020-02-22 2020-02-17     5  \n",
       "1               Italia     2020-02-21 2020-02-22     0  \n",
       "1168          CAMPECHE     2020-02-23 2020-02-23     0  "
      ]
     },
     "execution_count": 802,
     "metadata": {},
     "output_type": "execute_result"
    }
   ],
   "source": [
    "# Exploring the data: use numerical values rows (first seven records)\n",
    "data.iloc[0:7]\n"
   ]
  },
  {
   "cell_type": "code",
   "execution_count": 803,
   "metadata": {},
   "outputs": [
    {
     "data": {
      "text/plain": [
       "'Confirmado'"
      ]
     },
     "execution_count": 803,
     "metadata": {},
     "output_type": "execute_result"
    }
   ],
   "source": [
    "# Exploring the data: returns the row-column intersection\n",
    "data.iloc[4,5] \n"
   ]
  },
  {
   "cell_type": "code",
   "execution_count": 804,
   "metadata": {},
   "outputs": [
    {
     "data": {
      "text/html": [
       "<div>\n",
       "<style scoped>\n",
       "    .dataframe tbody tr th:only-of-type {\n",
       "        vertical-align: middle;\n",
       "    }\n",
       "\n",
       "    .dataframe tbody tr th {\n",
       "        vertical-align: top;\n",
       "    }\n",
       "\n",
       "    .dataframe thead th {\n",
       "        text-align: right;\n",
       "    }\n",
       "</style>\n",
       "<table border=\"1\" class=\"dataframe\">\n",
       "  <thead>\n",
       "    <tr style=\"text-align: right;\">\n",
       "      <th></th>\n",
       "      <th>estado</th>\n",
       "      <th>sexo</th>\n",
       "      <th>edad</th>\n",
       "      <th>inicio</th>\n",
       "    </tr>\n",
       "  </thead>\n",
       "  <tbody>\n",
       "    <tr>\n",
       "      <th>32</th>\n",
       "      <td>JALISCO</td>\n",
       "      <td>F</td>\n",
       "      <td>64</td>\n",
       "      <td>2020-03-01</td>\n",
       "    </tr>\n",
       "    <tr>\n",
       "      <th>686</th>\n",
       "      <td>JALISCO</td>\n",
       "      <td>F</td>\n",
       "      <td>50</td>\n",
       "      <td>2020-03-01</td>\n",
       "    </tr>\n",
       "    <tr>\n",
       "      <th>25</th>\n",
       "      <td>QUINTANA ROO</td>\n",
       "      <td>F</td>\n",
       "      <td>71</td>\n",
       "      <td>2020-03-01</td>\n",
       "    </tr>\n",
       "    <tr>\n",
       "      <th>479</th>\n",
       "      <td>CIUDAD DE MÉXICO</td>\n",
       "      <td>M</td>\n",
       "      <td>28</td>\n",
       "      <td>2020-03-02</td>\n",
       "    </tr>\n",
       "    <tr>\n",
       "      <th>10</th>\n",
       "      <td>MÉXICO</td>\n",
       "      <td>F</td>\n",
       "      <td>64</td>\n",
       "      <td>2020-03-02</td>\n",
       "    </tr>\n",
       "    <tr>\n",
       "      <th>630</th>\n",
       "      <td>MÉXICO</td>\n",
       "      <td>F</td>\n",
       "      <td>49</td>\n",
       "      <td>2020-03-02</td>\n",
       "    </tr>\n",
       "    <tr>\n",
       "      <th>84</th>\n",
       "      <td>NUEVO LEÓN</td>\n",
       "      <td>M</td>\n",
       "      <td>42</td>\n",
       "      <td>2020-03-02</td>\n",
       "    </tr>\n",
       "    <tr>\n",
       "      <th>782</th>\n",
       "      <td>QUINTANA ROO</td>\n",
       "      <td>M</td>\n",
       "      <td>35</td>\n",
       "      <td>2020-03-02</td>\n",
       "    </tr>\n",
       "    <tr>\n",
       "      <th>257</th>\n",
       "      <td>CIUDAD DE MÉXICO</td>\n",
       "      <td>F</td>\n",
       "      <td>31</td>\n",
       "      <td>2020-03-03</td>\n",
       "    </tr>\n",
       "    <tr>\n",
       "      <th>210</th>\n",
       "      <td>MÉXICO</td>\n",
       "      <td>M</td>\n",
       "      <td>31</td>\n",
       "      <td>2020-03-03</td>\n",
       "    </tr>\n",
       "    <tr>\n",
       "      <th>116</th>\n",
       "      <td>VERACRUZ</td>\n",
       "      <td>F</td>\n",
       "      <td>21</td>\n",
       "      <td>2020-03-03</td>\n",
       "    </tr>\n",
       "    <tr>\n",
       "      <th>24</th>\n",
       "      <td>CIUDAD DE MÉXICO</td>\n",
       "      <td>M</td>\n",
       "      <td>68</td>\n",
       "      <td>2020-03-04</td>\n",
       "    </tr>\n",
       "    <tr>\n",
       "      <th>254</th>\n",
       "      <td>CIUDAD DE MÉXICO</td>\n",
       "      <td>M</td>\n",
       "      <td>71</td>\n",
       "      <td>2020-03-04</td>\n",
       "    </tr>\n",
       "    <tr>\n",
       "      <th>188</th>\n",
       "      <td>JALISCO</td>\n",
       "      <td>M</td>\n",
       "      <td>50</td>\n",
       "      <td>2020-03-04</td>\n",
       "    </tr>\n",
       "    <tr>\n",
       "      <th>11</th>\n",
       "      <td>NUEVO LEÓN</td>\n",
       "      <td>M</td>\n",
       "      <td>57</td>\n",
       "      <td>2020-03-04</td>\n",
       "    </tr>\n",
       "    <tr>\n",
       "      <th>69</th>\n",
       "      <td>MÉXICO</td>\n",
       "      <td>F</td>\n",
       "      <td>47</td>\n",
       "      <td>2020-03-05</td>\n",
       "    </tr>\n",
       "    <tr>\n",
       "      <th>365</th>\n",
       "      <td>MÉXICO</td>\n",
       "      <td>M</td>\n",
       "      <td>51</td>\n",
       "      <td>2020-03-05</td>\n",
       "    </tr>\n",
       "    <tr>\n",
       "      <th>653</th>\n",
       "      <td>MÉXICO</td>\n",
       "      <td>F</td>\n",
       "      <td>44</td>\n",
       "      <td>2020-03-05</td>\n",
       "    </tr>\n",
       "    <tr>\n",
       "      <th>580</th>\n",
       "      <td>NUEVO LEÓN</td>\n",
       "      <td>M</td>\n",
       "      <td>40</td>\n",
       "      <td>2020-03-05</td>\n",
       "    </tr>\n",
       "    <tr>\n",
       "      <th>19</th>\n",
       "      <td>PUEBLA</td>\n",
       "      <td>M</td>\n",
       "      <td>31</td>\n",
       "      <td>2020-03-05</td>\n",
       "    </tr>\n",
       "    <tr>\n",
       "      <th>59</th>\n",
       "      <td>PUEBLA</td>\n",
       "      <td>F</td>\n",
       "      <td>27</td>\n",
       "      <td>2020-03-05</td>\n",
       "    </tr>\n",
       "    <tr>\n",
       "      <th>15</th>\n",
       "      <td>QUERETARO</td>\n",
       "      <td>M</td>\n",
       "      <td>42</td>\n",
       "      <td>2020-03-05</td>\n",
       "    </tr>\n",
       "    <tr>\n",
       "      <th>356</th>\n",
       "      <td>CAMPECHE</td>\n",
       "      <td>F</td>\n",
       "      <td>59</td>\n",
       "      <td>2020-03-06</td>\n",
       "    </tr>\n",
       "    <tr>\n",
       "      <th>114</th>\n",
       "      <td>CIUDAD DE MÉXICO</td>\n",
       "      <td>F</td>\n",
       "      <td>53</td>\n",
       "      <td>2020-03-06</td>\n",
       "    </tr>\n",
       "    <tr>\n",
       "      <th>252</th>\n",
       "      <td>CIUDAD DE MÉXICO</td>\n",
       "      <td>M</td>\n",
       "      <td>47</td>\n",
       "      <td>2020-03-06</td>\n",
       "    </tr>\n",
       "    <tr>\n",
       "      <th>272</th>\n",
       "      <td>CIUDAD DE MÉXICO</td>\n",
       "      <td>M</td>\n",
       "      <td>42</td>\n",
       "      <td>2020-03-06</td>\n",
       "    </tr>\n",
       "    <tr>\n",
       "      <th>13</th>\n",
       "      <td>DURANGO</td>\n",
       "      <td>M</td>\n",
       "      <td>58</td>\n",
       "      <td>2020-03-06</td>\n",
       "    </tr>\n",
       "  </tbody>\n",
       "</table>\n",
       "</div>"
      ],
      "text/plain": [
       "               estado sexo  edad     inicio\n",
       "32            JALISCO    F    64 2020-03-01\n",
       "686           JALISCO    F    50 2020-03-01\n",
       "25       QUINTANA ROO    F    71 2020-03-01\n",
       "479  CIUDAD DE MÉXICO    M    28 2020-03-02\n",
       "10             MÉXICO    F    64 2020-03-02\n",
       "630            MÉXICO    F    49 2020-03-02\n",
       "84         NUEVO LEÓN    M    42 2020-03-02\n",
       "782      QUINTANA ROO    M    35 2020-03-02\n",
       "257  CIUDAD DE MÉXICO    F    31 2020-03-03\n",
       "210            MÉXICO    M    31 2020-03-03\n",
       "116          VERACRUZ    F    21 2020-03-03\n",
       "24   CIUDAD DE MÉXICO    M    68 2020-03-04\n",
       "254  CIUDAD DE MÉXICO    M    71 2020-03-04\n",
       "188           JALISCO    M    50 2020-03-04\n",
       "11         NUEVO LEÓN    M    57 2020-03-04\n",
       "69             MÉXICO    F    47 2020-03-05\n",
       "365            MÉXICO    M    51 2020-03-05\n",
       "653            MÉXICO    F    44 2020-03-05\n",
       "580        NUEVO LEÓN    M    40 2020-03-05\n",
       "19             PUEBLA    M    31 2020-03-05\n",
       "59             PUEBLA    F    27 2020-03-05\n",
       "15          QUERETARO    M    42 2020-03-05\n",
       "356          CAMPECHE    F    59 2020-03-06\n",
       "114  CIUDAD DE MÉXICO    F    53 2020-03-06\n",
       "252  CIUDAD DE MÉXICO    M    47 2020-03-06\n",
       "272  CIUDAD DE MÉXICO    M    42 2020-03-06\n",
       "13            DURANGO    M    58 2020-03-06"
      ]
     },
     "execution_count": 804,
     "metadata": {},
     "output_type": "execute_result"
    }
   ],
   "source": [
    "# Exploring the data: returns an array\n",
    "data.iloc[12:39,1:5]  \n"
   ]
  },
  {
   "cell_type": "markdown",
   "metadata": {},
   "source": [
    "### Graphical display of results"
   ]
  },
  {
   "cell_type": "code",
   "execution_count": 805,
   "metadata": {},
   "outputs": [
    {
     "data": {
      "text/plain": [
       "Text(0, 0.5, 'Frecuency')"
      ]
     },
     "execution_count": 805,
     "metadata": {},
     "output_type": "execute_result"
    },
    {
     "data": {
      "image/png": "[encoded data removed]",
      "text/plain": [
       "<Figure size 1080x576 with 1 Axes>"
      ]
     },
     "metadata": {
      "needs_background": "light"
     },
     "output_type": "display_data"
    }
   ],
   "source": [
    "# Display a histogram with start dates \n",
    "data.inicio.hist(figsize = (15, 8), color='red', bins=56);\n",
    "plt.title('Start dates', fontsize=25)\n",
    "plt.xlabel('Date', fontsize=15)\n",
    "plt.ylabel('Frecuency',  fontsize=15)"
   ]
  },
  {
   "cell_type": "code",
   "execution_count": 806,
   "metadata": {},
   "outputs": [
    {
     "data": {
      "text/plain": [
       "Text(0.5, 1.0, 'Contagions in Mexico and abroad')"
      ]
     },
     "execution_count": 806,
     "metadata": {},
     "output_type": "execute_result"
    },
    {
     "data": {
      "image/png": "[encoded data removed]",
      "text/plain": [
       "<Figure size 432x288 with 1 Axes>"
      ]
     },
     "metadata": {},
     "output_type": "display_data"
    }
   ],
   "source": [
    "# Contagions in Mexico and abroad\n",
    "divisions= [contagiados, extranjero]\n",
    "explain = ['México','Abroad']\n",
    "colores = ['darkorange','yellow']\n",
    "plt.pie(divisions, labels=explain, colors=colores, startangle=90, shadow=True, autopct='%1.1f%%')\n",
    "plt.title('Contagions in Mexico and abroad', fontsize=15)\n"
   ]
  },
  {
   "cell_type": "code",
   "execution_count": 807,
   "metadata": {},
   "outputs": [
    {
     "data": {
      "text/plain": [
       "Text(0, 0.5, 'Frecuency')"
      ]
     },
     "execution_count": 807,
     "metadata": {},
     "output_type": "execute_result"
    },
    {
     "data": {
      "image/png": "[encoded data removed]",
      "text/plain": [
       "<Figure size 1080x576 with 1 Axes>"
      ]
     },
     "metadata": {
      "needs_background": "light"
     },
     "output_type": "display_data"
    }
   ],
   "source": [
    "# Display a histogram with age ranges\n",
    "plt.title('Age ranges of infected people', fontsize=25)\n",
    "data.edad.hist(figsize =(15, 8), color='lightgreen', bins=89)\n",
    "plt.xlabel('Age', fontsize=15)\n",
    "plt.ylabel('Frecuency',  fontsize=15)"
   ]
  },
  {
   "cell_type": "code",
   "execution_count": 808,
   "metadata": {},
   "outputs": [
    {
     "data": {
      "text/plain": [
       "Text(0.5, 1.0, 'Percentaje of men and women infected in Mexico')"
      ]
     },
     "execution_count": 808,
     "metadata": {},
     "output_type": "execute_result"
    },
    {
     "data": {
      "image/png": "[encoded data removed]",
      "text/plain": [
       "<Figure size 432x288 with 1 Axes>"
      ]
     },
     "metadata": {},
     "output_type": "display_data"
    }
   ],
   "source": [
    "# Number of infected men and women \n",
    "divisions= [numberMen, numberWomen]\n",
    "explain = ['Men','Women']\n",
    "colores = ['lightblue','orange']\n",
    "plt.pie(divisions, labels=explain, colors=colores, startangle=90, shadow=True, autopct='%1.1f%%')\n",
    "plt.title('Percentaje of men and women infected in Mexico', fontsize=15)\n",
    "\n"
   ]
  },
  {
   "cell_type": "code",
   "execution_count": 809,
   "metadata": {},
   "outputs": [
    {
     "data": {
      "text/plain": [
       "Text(0.5, 1.0, 'Infected from Europe')"
      ]
     },
     "execution_count": 809,
     "metadata": {},
     "output_type": "execute_result"
    },
    {
     "data": {
      "image/png": "[encoded data removed]",
      "text/plain": [
       "<Figure size 432x288 with 1 Axes>"
      ]
     },
     "metadata": {
      "needs_background": "light"
     },
     "output_type": "display_data"
    }
   ],
   "source": [
    "# Provenance of European countries\n",
    "paises = (\"Italy\", \"Spain\", \"France\", \"Germany\")\n",
    "posicion_y = np.arange(len(paises))\n",
    "\n",
    "unidades = (italyCount, spainCount, franceCount, germanyCount)\n",
    "\n",
    "plt.barh(posicion_y, unidades, align = \"center\", color='brown')\n",
    "plt.yticks(posicion_y, paises)\n",
    "plt.xlabel('Number of people', fontsize=10)\n",
    "plt.title(\"Infected from Europe\", fontsize=25)\n"
   ]
  },
  {
   "cell_type": "code",
   "execution_count": 810,
   "metadata": {},
   "outputs": [
    {
     "data": {
      "text/plain": [
       "Text(0, 0.5, 'Confirmed cases')"
      ]
     },
     "execution_count": 810,
     "metadata": {},
     "output_type": "execute_result"
    },
    {
     "data": {
      "image/png": "[encoded data removed]",
      "text/plain": [
       "<Figure size 1080x576 with 1 Axes>"
      ]
     },
     "metadata": {
      "needs_background": "light"
     },
     "output_type": "display_data"
    }
   ],
   "source": [
    "# Confirmed cases per day in CDMX\n",
    "graphicCdmx = pd.DataFrame(vectorCdmx, vectorDates)\n",
    "graphicCdmx.plot(color=\"blue\", linewidth=3, figsize =(15, 8))\n",
    "plt.grid()\n",
    "plt.title(\"Confirmed cases per day in CDMX\", fontsize=25)\n",
    "plt.xlabel('Date', fontsize=15)\n",
    "plt.ylabel('Confirmed cases',  fontsize=15)"
   ]
  },
  {
   "cell_type": "markdown",
   "metadata": {},
   "source": [
    "### National visualization of the pandemic"
   ]
  },
  {
   "cell_type": "code",
   "execution_count": 811,
   "metadata": {},
   "outputs": [
    {
     "data": {
      "text/html": [
       "<div>\n",
       "<style scoped>\n",
       "    .dataframe tbody tr th:only-of-type {\n",
       "        vertical-align: middle;\n",
       "    }\n",
       "\n",
       "    .dataframe tbody tr th {\n",
       "        vertical-align: top;\n",
       "    }\n",
       "\n",
       "    .dataframe thead th {\n",
       "        text-align: right;\n",
       "    }\n",
       "</style>\n",
       "<table border=\"1\" class=\"dataframe\">\n",
       "  <thead>\n",
       "    <tr style=\"text-align: right;\">\n",
       "      <th></th>\n",
       "      <th>estado</th>\n",
       "      <th>lat</th>\n",
       "      <th>lon</th>\n",
       "      <th>capital</th>\n",
       "    </tr>\n",
       "  </thead>\n",
       "  <tbody>\n",
       "    <tr>\n",
       "      <th>0</th>\n",
       "      <td>CIUDAD DE MÉXICO</td>\n",
       "      <td>19.401530</td>\n",
       "      <td>-99.135415</td>\n",
       "      <td>NaN</td>\n",
       "    </tr>\n",
       "    <tr>\n",
       "      <th>1</th>\n",
       "      <td>SINALOA</td>\n",
       "      <td>24.805213</td>\n",
       "      <td>-107.396538</td>\n",
       "      <td>CULIACAN</td>\n",
       "    </tr>\n",
       "    <tr>\n",
       "      <th>2</th>\n",
       "      <td>COAHUILA</td>\n",
       "      <td>27.177668</td>\n",
       "      <td>-101.876190</td>\n",
       "      <td>SALTILLO</td>\n",
       "    </tr>\n",
       "    <tr>\n",
       "      <th>3</th>\n",
       "      <td>CHIAPAS</td>\n",
       "      <td>16.756774</td>\n",
       "      <td>-93.139526</td>\n",
       "      <td>TUXTLA GUTIERREZ</td>\n",
       "    </tr>\n",
       "    <tr>\n",
       "      <th>4</th>\n",
       "      <td>MÉXICO</td>\n",
       "      <td>19.385644</td>\n",
       "      <td>-99.674101</td>\n",
       "      <td>TOLUCA</td>\n",
       "    </tr>\n",
       "    <tr>\n",
       "      <th>5</th>\n",
       "      <td>QUERETARO</td>\n",
       "      <td>20.606296</td>\n",
       "      <td>-100.396495</td>\n",
       "      <td>QUERETARO</td>\n",
       "    </tr>\n",
       "    <tr>\n",
       "      <th>6</th>\n",
       "      <td>NUEVO LEÓN</td>\n",
       "      <td>25.523678</td>\n",
       "      <td>-99.866745</td>\n",
       "      <td>MONTERREY</td>\n",
       "    </tr>\n",
       "    <tr>\n",
       "      <th>7</th>\n",
       "      <td>DURANGO</td>\n",
       "      <td>24.698052</td>\n",
       "      <td>-104.837389</td>\n",
       "      <td>DURANGO</td>\n",
       "    </tr>\n",
       "    <tr>\n",
       "      <th>8</th>\n",
       "      <td>PUEBLA</td>\n",
       "      <td>18.827949</td>\n",
       "      <td>-97.911607</td>\n",
       "      <td>PUEBLA</td>\n",
       "    </tr>\n",
       "    <tr>\n",
       "      <th>9</th>\n",
       "      <td>YUCATÁN</td>\n",
       "      <td>20.756426</td>\n",
       "      <td>-88.976256</td>\n",
       "      <td>MERIDA</td>\n",
       "    </tr>\n",
       "    <tr>\n",
       "      <th>10</th>\n",
       "      <td>QUINTANA ROO</td>\n",
       "      <td>19.528813</td>\n",
       "      <td>-88.094392</td>\n",
       "      <td>CHETUMAL</td>\n",
       "    </tr>\n",
       "    <tr>\n",
       "      <th>11</th>\n",
       "      <td>SAN LUIS POTOSÍ</td>\n",
       "      <td>22.152870</td>\n",
       "      <td>-100.971217</td>\n",
       "      <td>SAN LUIS POTOSÍ</td>\n",
       "    </tr>\n",
       "    <tr>\n",
       "      <th>12</th>\n",
       "      <td>JALISCO</td>\n",
       "      <td>20.491545</td>\n",
       "      <td>-103.726223</td>\n",
       "      <td>GUADALAJARA</td>\n",
       "    </tr>\n",
       "    <tr>\n",
       "      <th>13</th>\n",
       "      <td>OAXACA</td>\n",
       "      <td>16.642155</td>\n",
       "      <td>-96.704747</td>\n",
       "      <td>OAXACA</td>\n",
       "    </tr>\n",
       "    <tr>\n",
       "      <th>14</th>\n",
       "      <td>GUERRERO</td>\n",
       "      <td>17.488193</td>\n",
       "      <td>-99.912144</td>\n",
       "      <td>CHILPANCINGO</td>\n",
       "    </tr>\n",
       "    <tr>\n",
       "      <th>15</th>\n",
       "      <td>AGUASCALIENTES</td>\n",
       "      <td>21.877392</td>\n",
       "      <td>-102.278264</td>\n",
       "      <td>AGUASCALIENTES</td>\n",
       "    </tr>\n",
       "    <tr>\n",
       "      <th>16</th>\n",
       "      <td>GUANAJUATO</td>\n",
       "      <td>21.056379</td>\n",
       "      <td>-100.964048</td>\n",
       "      <td>GUANAJUATO</td>\n",
       "    </tr>\n",
       "    <tr>\n",
       "      <th>17</th>\n",
       "      <td>CHIHUAHUA</td>\n",
       "      <td>28.450098</td>\n",
       "      <td>-106.110482</td>\n",
       "      <td>CHIHUAHUA</td>\n",
       "    </tr>\n",
       "    <tr>\n",
       "      <th>18</th>\n",
       "      <td>TAMAULIPAS</td>\n",
       "      <td>23.894994</td>\n",
       "      <td>-98.591030</td>\n",
       "      <td>CIUDAD VICTORIO</td>\n",
       "    </tr>\n",
       "    <tr>\n",
       "      <th>19</th>\n",
       "      <td>SONORA</td>\n",
       "      <td>29.436925</td>\n",
       "      <td>-110.514242</td>\n",
       "      <td>HERMOSILLO</td>\n",
       "    </tr>\n",
       "    <tr>\n",
       "      <th>20</th>\n",
       "      <td>VERACRUZ</td>\n",
       "      <td>19.541197</td>\n",
       "      <td>-96.597817</td>\n",
       "      <td>XALAPA</td>\n",
       "    </tr>\n",
       "    <tr>\n",
       "      <th>21</th>\n",
       "      <td>COLIMA</td>\n",
       "      <td>19.154457</td>\n",
       "      <td>-103.858376</td>\n",
       "      <td>COLIMA</td>\n",
       "    </tr>\n",
       "    <tr>\n",
       "      <th>22</th>\n",
       "      <td>BAJA CALIFORNIA</td>\n",
       "      <td>30.163889</td>\n",
       "      <td>-115.271327</td>\n",
       "      <td>MEXICALI</td>\n",
       "    </tr>\n",
       "    <tr>\n",
       "      <th>23</th>\n",
       "      <td>HIDALGO</td>\n",
       "      <td>20.391071</td>\n",
       "      <td>-98.892267</td>\n",
       "      <td>PACHUCA</td>\n",
       "    </tr>\n",
       "    <tr>\n",
       "      <th>24</th>\n",
       "      <td>TABASCO</td>\n",
       "      <td>18.087329</td>\n",
       "      <td>-92.638754</td>\n",
       "      <td>VILLAHERMOSA</td>\n",
       "    </tr>\n",
       "    <tr>\n",
       "      <th>25</th>\n",
       "      <td>MORELOS</td>\n",
       "      <td>18.780715</td>\n",
       "      <td>-99.108338</td>\n",
       "      <td>CUERNAVACA</td>\n",
       "    </tr>\n",
       "    <tr>\n",
       "      <th>26</th>\n",
       "      <td>NAYARIT</td>\n",
       "      <td>21.701319</td>\n",
       "      <td>-104.668144</td>\n",
       "      <td>TEPIC</td>\n",
       "    </tr>\n",
       "    <tr>\n",
       "      <th>27</th>\n",
       "      <td>ZACATECAS</td>\n",
       "      <td>23.443961</td>\n",
       "      <td>-102.758527</td>\n",
       "      <td>ZACATECAS</td>\n",
       "    </tr>\n",
       "    <tr>\n",
       "      <th>28</th>\n",
       "      <td>BAJA CALIFORNIA SUR</td>\n",
       "      <td>26.229542</td>\n",
       "      <td>-111.936810</td>\n",
       "      <td>LA PAZ</td>\n",
       "    </tr>\n",
       "    <tr>\n",
       "      <th>29</th>\n",
       "      <td>MICHOACÁN</td>\n",
       "      <td>19.473371</td>\n",
       "      <td>-101.826452</td>\n",
       "      <td>MORELIA</td>\n",
       "    </tr>\n",
       "    <tr>\n",
       "      <th>30</th>\n",
       "      <td>CAMPECHE</td>\n",
       "      <td>18.918481</td>\n",
       "      <td>-90.171292</td>\n",
       "      <td>CAMPECHE</td>\n",
       "    </tr>\n",
       "    <tr>\n",
       "      <th>31</th>\n",
       "      <td>TLAXCALA</td>\n",
       "      <td>19.377285</td>\n",
       "      <td>-98.173120</td>\n",
       "      <td>TLAXCALA</td>\n",
       "    </tr>\n",
       "  </tbody>\n",
       "</table>\n",
       "</div>"
      ],
      "text/plain": [
       "                 estado        lat         lon           capital\n",
       "0      CIUDAD DE MÉXICO  19.401530  -99.135415               NaN\n",
       "1               SINALOA  24.805213 -107.396538          CULIACAN\n",
       "2              COAHUILA  27.177668 -101.876190          SALTILLO\n",
       "3               CHIAPAS  16.756774  -93.139526  TUXTLA GUTIERREZ\n",
       "4                MÉXICO  19.385644  -99.674101            TOLUCA\n",
       "5             QUERETARO  20.606296 -100.396495         QUERETARO\n",
       "6            NUEVO LEÓN  25.523678  -99.866745         MONTERREY\n",
       "7               DURANGO  24.698052 -104.837389           DURANGO\n",
       "8                PUEBLA  18.827949  -97.911607            PUEBLA\n",
       "9               YUCATÁN  20.756426  -88.976256            MERIDA\n",
       "10         QUINTANA ROO  19.528813  -88.094392          CHETUMAL\n",
       "11      SAN LUIS POTOSÍ  22.152870 -100.971217   SAN LUIS POTOSÍ\n",
       "12              JALISCO  20.491545 -103.726223       GUADALAJARA\n",
       "13               OAXACA  16.642155  -96.704747            OAXACA\n",
       "14             GUERRERO  17.488193  -99.912144      CHILPANCINGO\n",
       "15       AGUASCALIENTES  21.877392 -102.278264    AGUASCALIENTES\n",
       "16           GUANAJUATO  21.056379 -100.964048        GUANAJUATO\n",
       "17            CHIHUAHUA  28.450098 -106.110482         CHIHUAHUA\n",
       "18           TAMAULIPAS  23.894994  -98.591030   CIUDAD VICTORIO\n",
       "19               SONORA  29.436925 -110.514242        HERMOSILLO\n",
       "20             VERACRUZ  19.541197  -96.597817            XALAPA\n",
       "21               COLIMA  19.154457 -103.858376            COLIMA\n",
       "22      BAJA CALIFORNIA  30.163889 -115.271327          MEXICALI\n",
       "23              HIDALGO  20.391071  -98.892267           PACHUCA\n",
       "24              TABASCO  18.087329  -92.638754      VILLAHERMOSA\n",
       "25              MORELOS  18.780715  -99.108338        CUERNAVACA\n",
       "26              NAYARIT  21.701319 -104.668144             TEPIC\n",
       "27            ZACATECAS  23.443961 -102.758527         ZACATECAS\n",
       "28  BAJA CALIFORNIA SUR  26.229542 -111.936810            LA PAZ\n",
       "29            MICHOACÁN  19.473371 -101.826452           MORELIA\n",
       "30             CAMPECHE  18.918481  -90.171292          CAMPECHE\n",
       "31             TLAXCALA  19.377285  -98.173120          TLAXCALA"
      ]
     },
     "execution_count": 811,
     "metadata": {},
     "output_type": "execute_result"
    }
   ],
   "source": [
    "# Read data from .csv file\n",
    "estados = pd.read_csv(\"estado_cord.csv\", index_col = 0)\n",
    "# Visualize the data matrix\n",
    "estados"
   ]
  },
  {
   "cell_type": "code",
   "execution_count": 812,
   "metadata": {},
   "outputs": [
    {
     "data": {
      "text/html": [
       "<div>\n",
       "<style scoped>\n",
       "    .dataframe tbody tr th:only-of-type {\n",
       "        vertical-align: middle;\n",
       "    }\n",
       "\n",
       "    .dataframe tbody tr th {\n",
       "        vertical-align: top;\n",
       "    }\n",
       "\n",
       "    .dataframe thead th {\n",
       "        text-align: right;\n",
       "    }\n",
       "</style>\n",
       "<table border=\"1\" class=\"dataframe\">\n",
       "  <thead>\n",
       "    <tr style=\"text-align: right;\">\n",
       "      <th></th>\n",
       "      <th>estado</th>\n",
       "      <th>lat</th>\n",
       "      <th>lon</th>\n",
       "      <th>capital</th>\n",
       "      <th>n_caso</th>\n",
       "      <th>sexo</th>\n",
       "      <th>edad</th>\n",
       "      <th>inicio</th>\n",
       "      <th>estatus</th>\n",
       "      <th>procedencia</th>\n",
       "      <th>llegada_mexico</th>\n",
       "      <th>first_date</th>\n",
       "      <th>days</th>\n",
       "    </tr>\n",
       "  </thead>\n",
       "  <tbody>\n",
       "    <tr>\n",
       "      <th>0</th>\n",
       "      <td>CIUDAD DE MÉXICO</td>\n",
       "      <td>19.401530</td>\n",
       "      <td>-99.135415</td>\n",
       "      <td>NaN</td>\n",
       "      <td>1151</td>\n",
       "      <td>M</td>\n",
       "      <td>41</td>\n",
       "      <td>2020-02-17</td>\n",
       "      <td>Confirmado</td>\n",
       "      <td>CIUDAD DE MÉXICO</td>\n",
       "      <td>2020-02-17</td>\n",
       "      <td>2020-02-17</td>\n",
       "      <td>0</td>\n",
       "    </tr>\n",
       "    <tr>\n",
       "      <th>1</th>\n",
       "      <td>CIUDAD DE MÉXICO</td>\n",
       "      <td>19.401530</td>\n",
       "      <td>-99.135415</td>\n",
       "      <td>NaN</td>\n",
       "      <td>1</td>\n",
       "      <td>M</td>\n",
       "      <td>35</td>\n",
       "      <td>2020-02-22</td>\n",
       "      <td>Confirmado</td>\n",
       "      <td>Italia</td>\n",
       "      <td>2020-02-22</td>\n",
       "      <td>2020-02-17</td>\n",
       "      <td>5</td>\n",
       "    </tr>\n",
       "    <tr>\n",
       "      <th>2</th>\n",
       "      <td>CIUDAD DE MÉXICO</td>\n",
       "      <td>19.401530</td>\n",
       "      <td>-99.135415</td>\n",
       "      <td>NaN</td>\n",
       "      <td>3</td>\n",
       "      <td>M</td>\n",
       "      <td>59</td>\n",
       "      <td>2020-02-23</td>\n",
       "      <td>Confirmado</td>\n",
       "      <td>Italia</td>\n",
       "      <td>2020-02-22</td>\n",
       "      <td>2020-02-17</td>\n",
       "      <td>6</td>\n",
       "    </tr>\n",
       "    <tr>\n",
       "      <th>3</th>\n",
       "      <td>CIUDAD DE MÉXICO</td>\n",
       "      <td>19.401530</td>\n",
       "      <td>-99.135415</td>\n",
       "      <td>NaN</td>\n",
       "      <td>7</td>\n",
       "      <td>M</td>\n",
       "      <td>46</td>\n",
       "      <td>2020-02-29</td>\n",
       "      <td>Confirmado</td>\n",
       "      <td>Estados Unidos</td>\n",
       "      <td>2020-02-29</td>\n",
       "      <td>2020-02-17</td>\n",
       "      <td>12</td>\n",
       "    </tr>\n",
       "    <tr>\n",
       "      <th>4</th>\n",
       "      <td>CIUDAD DE MÉXICO</td>\n",
       "      <td>19.401530</td>\n",
       "      <td>-99.135415</td>\n",
       "      <td>NaN</td>\n",
       "      <td>674</td>\n",
       "      <td>F</td>\n",
       "      <td>50</td>\n",
       "      <td>2020-03-01</td>\n",
       "      <td>Confirmado</td>\n",
       "      <td>Estados Unidos</td>\n",
       "      <td>2020-03-08</td>\n",
       "      <td>2020-02-17</td>\n",
       "      <td>13</td>\n",
       "    </tr>\n",
       "    <tr>\n",
       "      <th>...</th>\n",
       "      <td>...</td>\n",
       "      <td>...</td>\n",
       "      <td>...</td>\n",
       "      <td>...</td>\n",
       "      <td>...</td>\n",
       "      <td>...</td>\n",
       "      <td>...</td>\n",
       "      <td>...</td>\n",
       "      <td>...</td>\n",
       "      <td>...</td>\n",
       "      <td>...</td>\n",
       "      <td>...</td>\n",
       "      <td>...</td>\n",
       "    </tr>\n",
       "    <tr>\n",
       "      <th>1363</th>\n",
       "      <td>TLAXCALA</td>\n",
       "      <td>19.377285</td>\n",
       "      <td>-98.173120</td>\n",
       "      <td>TLAXCALA</td>\n",
       "      <td>495</td>\n",
       "      <td>F</td>\n",
       "      <td>19</td>\n",
       "      <td>2020-03-16</td>\n",
       "      <td>Confirmado</td>\n",
       "      <td>Estados Unidos</td>\n",
       "      <td>2020-03-21</td>\n",
       "      <td>2020-03-16</td>\n",
       "      <td>0</td>\n",
       "    </tr>\n",
       "    <tr>\n",
       "      <th>1364</th>\n",
       "      <td>TLAXCALA</td>\n",
       "      <td>19.377285</td>\n",
       "      <td>-98.173120</td>\n",
       "      <td>TLAXCALA</td>\n",
       "      <td>598</td>\n",
       "      <td>M</td>\n",
       "      <td>38</td>\n",
       "      <td>2020-03-16</td>\n",
       "      <td>Confirmado</td>\n",
       "      <td>TLAXCALA</td>\n",
       "      <td>2020-03-16</td>\n",
       "      <td>2020-03-16</td>\n",
       "      <td>0</td>\n",
       "    </tr>\n",
       "    <tr>\n",
       "      <th>1365</th>\n",
       "      <td>TLAXCALA</td>\n",
       "      <td>19.377285</td>\n",
       "      <td>-98.173120</td>\n",
       "      <td>TLAXCALA</td>\n",
       "      <td>619</td>\n",
       "      <td>M</td>\n",
       "      <td>45</td>\n",
       "      <td>2020-03-17</td>\n",
       "      <td>Confirmado</td>\n",
       "      <td>TLAXCALA</td>\n",
       "      <td>2020-03-17</td>\n",
       "      <td>2020-03-16</td>\n",
       "      <td>1</td>\n",
       "    </tr>\n",
       "    <tr>\n",
       "      <th>1366</th>\n",
       "      <td>TLAXCALA</td>\n",
       "      <td>19.377285</td>\n",
       "      <td>-98.173120</td>\n",
       "      <td>TLAXCALA</td>\n",
       "      <td>629</td>\n",
       "      <td>M</td>\n",
       "      <td>56</td>\n",
       "      <td>2020-03-22</td>\n",
       "      <td>Confirmado</td>\n",
       "      <td>Estados Unidos</td>\n",
       "      <td>2020-03-21</td>\n",
       "      <td>2020-03-16</td>\n",
       "      <td>6</td>\n",
       "    </tr>\n",
       "    <tr>\n",
       "      <th>1367</th>\n",
       "      <td>TLAXCALA</td>\n",
       "      <td>19.377285</td>\n",
       "      <td>-98.173120</td>\n",
       "      <td>TLAXCALA</td>\n",
       "      <td>1293</td>\n",
       "      <td>M</td>\n",
       "      <td>29</td>\n",
       "      <td>2020-03-24</td>\n",
       "      <td>Confirmado</td>\n",
       "      <td>TLAXCALA</td>\n",
       "      <td>2020-03-24</td>\n",
       "      <td>2020-03-16</td>\n",
       "      <td>8</td>\n",
       "    </tr>\n",
       "  </tbody>\n",
       "</table>\n",
       "<p>1368 rows × 13 columns</p>\n",
       "</div>"
      ],
      "text/plain": [
       "                estado        lat        lon   capital  n_caso sexo  edad  \\\n",
       "0     CIUDAD DE MÉXICO  19.401530 -99.135415       NaN    1151    M    41   \n",
       "1     CIUDAD DE MÉXICO  19.401530 -99.135415       NaN       1    M    35   \n",
       "2     CIUDAD DE MÉXICO  19.401530 -99.135415       NaN       3    M    59   \n",
       "3     CIUDAD DE MÉXICO  19.401530 -99.135415       NaN       7    M    46   \n",
       "4     CIUDAD DE MÉXICO  19.401530 -99.135415       NaN     674    F    50   \n",
       "...                ...        ...        ...       ...     ...  ...   ...   \n",
       "1363          TLAXCALA  19.377285 -98.173120  TLAXCALA     495    F    19   \n",
       "1364          TLAXCALA  19.377285 -98.173120  TLAXCALA     598    M    38   \n",
       "1365          TLAXCALA  19.377285 -98.173120  TLAXCALA     619    M    45   \n",
       "1366          TLAXCALA  19.377285 -98.173120  TLAXCALA     629    M    56   \n",
       "1367          TLAXCALA  19.377285 -98.173120  TLAXCALA    1293    M    29   \n",
       "\n",
       "         inicio     estatus       procedencia llegada_mexico first_date  days  \n",
       "0    2020-02-17  Confirmado  CIUDAD DE MÉXICO     2020-02-17 2020-02-17     0  \n",
       "1    2020-02-22  Confirmado            Italia     2020-02-22 2020-02-17     5  \n",
       "2    2020-02-23  Confirmado            Italia     2020-02-22 2020-02-17     6  \n",
       "3    2020-02-29  Confirmado    Estados Unidos     2020-02-29 2020-02-17    12  \n",
       "4    2020-03-01  Confirmado    Estados Unidos     2020-03-08 2020-02-17    13  \n",
       "...         ...         ...               ...            ...        ...   ...  \n",
       "1363 2020-03-16  Confirmado    Estados Unidos     2020-03-21 2020-03-16     0  \n",
       "1364 2020-03-16  Confirmado          TLAXCALA     2020-03-16 2020-03-16     0  \n",
       "1365 2020-03-17  Confirmado          TLAXCALA     2020-03-17 2020-03-16     1  \n",
       "1366 2020-03-22  Confirmado    Estados Unidos     2020-03-21 2020-03-16     6  \n",
       "1367 2020-03-24  Confirmado          TLAXCALA     2020-03-24 2020-03-16     8  \n",
       "\n",
       "[1368 rows x 13 columns]"
      ]
     },
     "execution_count": 812,
     "metadata": {},
     "output_type": "execute_result"
    }
   ],
   "source": [
    "# Combine matrices: \"estado\" matrix and the initial matrix\n",
    "data = pd.merge(estados, data, on = [\"estado\"], how = \"right\")\n",
    "data"
   ]
  },
  {
   "cell_type": "code",
   "execution_count": 813,
   "metadata": {},
   "outputs": [
    {
     "data": {
      "text/html": [
       "<div>\n",
       "<style scoped>\n",
       "    .dataframe tbody tr th:only-of-type {\n",
       "        vertical-align: middle;\n",
       "    }\n",
       "\n",
       "    .dataframe tbody tr th {\n",
       "        vertical-align: top;\n",
       "    }\n",
       "\n",
       "    .dataframe thead th {\n",
       "        text-align: right;\n",
       "    }\n",
       "</style>\n",
       "<table border=\"1\" class=\"dataframe\">\n",
       "  <thead>\n",
       "    <tr style=\"text-align: right;\">\n",
       "      <th></th>\n",
       "      <th>estado</th>\n",
       "      <th>lat</th>\n",
       "      <th>lon</th>\n",
       "      <th>estatus</th>\n",
       "    </tr>\n",
       "  </thead>\n",
       "  <tbody>\n",
       "    <tr>\n",
       "      <th>0</th>\n",
       "      <td>AGUASCALIENTES</td>\n",
       "      <td>21.877392</td>\n",
       "      <td>-102.278264</td>\n",
       "      <td>36</td>\n",
       "    </tr>\n",
       "    <tr>\n",
       "      <th>1</th>\n",
       "      <td>BAJA CALIFORNIA</td>\n",
       "      <td>30.163889</td>\n",
       "      <td>-115.271327</td>\n",
       "      <td>37</td>\n",
       "    </tr>\n",
       "    <tr>\n",
       "      <th>2</th>\n",
       "      <td>BAJA CALIFORNIA SUR</td>\n",
       "      <td>26.229542</td>\n",
       "      <td>-111.936810</td>\n",
       "      <td>18</td>\n",
       "    </tr>\n",
       "    <tr>\n",
       "      <th>3</th>\n",
       "      <td>CAMPECHE</td>\n",
       "      <td>18.918481</td>\n",
       "      <td>-90.171292</td>\n",
       "      <td>5</td>\n",
       "    </tr>\n",
       "    <tr>\n",
       "      <th>4</th>\n",
       "      <td>CHIAPAS</td>\n",
       "      <td>16.756774</td>\n",
       "      <td>-93.139526</td>\n",
       "      <td>14</td>\n",
       "    </tr>\n",
       "  </tbody>\n",
       "</table>\n",
       "</div>"
      ],
      "text/plain": [
       "                estado        lat         lon  estatus\n",
       "0       AGUASCALIENTES  21.877392 -102.278264       36\n",
       "1      BAJA CALIFORNIA  30.163889 -115.271327       37\n",
       "2  BAJA CALIFORNIA SUR  26.229542 -111.936810       18\n",
       "3             CAMPECHE  18.918481  -90.171292        5\n",
       "4              CHIAPAS  16.756774  -93.139526       14"
      ]
     },
     "execution_count": 813,
     "metadata": {},
     "output_type": "execute_result"
    }
   ],
   "source": [
    "# Create a matrix that allows graphing the map (state, geographic coordinates and confirmed cases)\n",
    "datos_mapa = data.groupby([\"estado\", \"lat\", \"lon\"]).agg({\n",
    "    \"estatus\":\"size\"\n",
    "}).reset_index()\n",
    "datos_mapa.head()"
   ]
  },
  {
   "cell_type": "code",
   "execution_count": 814,
   "metadata": {},
   "outputs": [
    {
     "data": {
      "text/plain": [
       "Text(0.5, 1.0, \"Main Mexico's cities\")"
      ]
     },
     "execution_count": 814,
     "metadata": {},
     "output_type": "execute_result"
    },
    {
     "data": {
      "image/png": "[encoded data removed]",
      "text/plain": [
       "<Figure size 432x288 with 1 Axes>"
      ]
     },
     "metadata": {
      "needs_background": "light"
     },
     "output_type": "display_data"
    }
   ],
   "source": [
    "# Display a histogram with the main cities\n",
    "estados = (\"Jalisco\", \"Ciudad de México\", \"Nuevo León\")\n",
    "posicion_y = np.arange(len(estados))\n",
    "\n",
    "jal = datos_mapa[datos_mapa['estado'] == 'JALISCO']\n",
    "jalNum = jal.iloc[0,3]\n",
    "cdmx = datos_mapa[datos_mapa['estado'] == 'CIUDAD DE MÉXICO']\n",
    "cdmxNum = cdmx.iloc[0,3]\n",
    "nl = datos_mapa[datos_mapa['estado'] == 'NUEVO LEÓN']\n",
    "nlNum = nl.iloc[0,3]\n",
    "unidades = (jalNum, cdmxNum, nlNum)\n",
    "\n",
    "plt.barh(posicion_y, unidades, align = \"center\", color='blue')\n",
    "plt.yticks(posicion_y, estados)\n",
    "plt.xlabel('Confirmed cases', fontsize=10)\n",
    "plt.title(\"Main Mexico's cities\", fontsize=25)\n"
   ]
  },
  {
   "cell_type": "code",
   "execution_count": 815,
   "metadata": {},
   "outputs": [
    {
     "data": {
      "application/vnd.plotly.v1+json": {
       "config": {
        "plotlyServerURL": "https://plot.ly"
       },
       "data": [
        {
         "hovertemplate": "<b>%{hovertext}</b><br><br>estatus=%{marker.size}<br>lat=%{lat}<br>lon=%{lon}<extra></extra>",
         "hovertext": [
          "AGUASCALIENTES",
          "BAJA CALIFORNIA",
          "BAJA CALIFORNIA SUR",
          "CAMPECHE",
          "CHIAPAS",
          "CHIHUAHUA",
          "CIUDAD DE MÉXICO",
          "COAHUILA",
          "COLIMA",
          "DURANGO",
          "GUANAJUATO",
          "GUERRERO",
          "HIDALGO",
          "JALISCO",
          "MICHOACÁN",
          "MORELOS",
          "MÉXICO",
          "NAYARIT",
          "NUEVO LEÓN",
          "OAXACA",
          "PUEBLA",
          "QUERETARO",
          "QUINTANA ROO",
          "SAN LUIS POTOSÍ",
          "SINALOA",
          "SONORA",
          "TABASCO",
          "TAMAULIPAS",
          "TLAXCALA",
          "VERACRUZ",
          "YUCATÁN",
          "ZACATECAS"
         ],
         "lat": [
          21.877392,
          30.163889,
          26.229542,
          18.918481,
          16.756774,
          28.450097999999997,
          19.401529999999998,
          27.177668,
          19.154457,
          24.698052,
          21.056379,
          17.488193,
          20.391071,
          20.491545000000002,
          19.473371,
          18.780715,
          19.385644,
          21.701319,
          25.523678,
          16.642155,
          18.827949,
          20.606296,
          19.528813,
          22.15287,
          24.805213000000002,
          29.436925,
          18.087329,
          23.894994,
          19.377285,
          19.541197,
          20.756426,
          23.443960999999998
         ],
         "legendgroup": "",
         "lon": [
          -102.27826400000001,
          -115.271327,
          -111.93681000000001,
          -90.17129200000001,
          -93.139526,
          -106.110482,
          -99.13541500000001,
          -101.87619000000001,
          -103.858376,
          -104.837389,
          -100.96404799999999,
          -99.912144,
          -98.892267,
          -103.726223,
          -101.826452,
          -99.108338,
          -99.67410100000001,
          -104.668144,
          -99.866745,
          -96.704747,
          -97.91160699999999,
          -100.396495,
          -88.094392,
          -100.97121700000001,
          -107.39653799999999,
          -110.514242,
          -92.638754,
          -98.59103,
          -98.17312,
          -96.597817,
          -88.976256,
          -102.758527
         ],
         "marker": {
          "color": "red",
          "size": [
           36,
           37,
           18,
           5,
           14,
           11,
           293,
           57,
           3,
           7,
           49,
           17,
           20,
           97,
           23,
           9,
           157,
           7,
           78,
           22,
           96,
           29,
           51,
           31,
           32,
           18,
           52,
           9,
           5,
           28,
           51,
           6
          ],
          "sizemode": "area",
          "sizeref": 0.7325
         },
         "mode": "markers",
         "name": "",
         "showlegend": false,
         "subplot": "mapbox",
         "type": "scattermapbox"
        }
       ],
       "layout": {
        "height": 300,
        "legend": {
         "itemsizing": "constant",
         "tracegroupgap": 0
        },
        "mapbox": {
         "accesstoken": "12",
         "center": {
          "lat": 21.69441284375,
          "lon": -100.53057109375
         },
         "domain": {
          "x": [
           0,
           1
          ],
          "y": [
           0,
           1
          ]
         },
         "style": "open-street-map",
         "zoom": 3
        },
        "margin": {
         "b": 0,
         "l": 0,
         "r": 0,
         "t": 0
        },
        "template": {
         "data": {
          "bar": [
           {
            "error_x": {
             "color": "#2a3f5f"
            },
            "error_y": {
             "color": "#2a3f5f"
            },
            "marker": {
             "line": {
              "color": "#E5ECF6",
              "width": 0.5
             }
            },
            "type": "bar"
           }
          ],
          "barpolar": [
           {
            "marker": {
             "line": {
              "color": "#E5ECF6",
              "width": 0.5
             }
            },
            "type": "barpolar"
           }
          ],
          "carpet": [
           {
            "aaxis": {
             "endlinecolor": "#2a3f5f",
             "gridcolor": "white",
             "linecolor": "white",
             "minorgridcolor": "white",
             "startlinecolor": "#2a3f5f"
            },
            "baxis": {
             "endlinecolor": "#2a3f5f",
             "gridcolor": "white",
             "linecolor": "white",
             "minorgridcolor": "white",
             "startlinecolor": "#2a3f5f"
            },
            "type": "carpet"
           }
          ],
          "choropleth": [
           {
            "colorbar": {
             "outlinewidth": 0,
             "ticks": ""
            },
            "type": "choropleth"
           }
          ],
          "contour": [
           {
            "colorbar": {
             "outlinewidth": 0,
             "ticks": ""
            },
            "colorscale": [
             [
              0,
              "#0d0887"
             ],
             [
              0.1111111111111111,
              "#46039f"
             ],
             [
              0.2222222222222222,
              "#7201a8"
             ],
             [
              0.3333333333333333,
              "#9c179e"
             ],
             [
              0.4444444444444444,
              "#bd3786"
             ],
             [
              0.5555555555555556,
              "#d8576b"
             ],
             [
              0.6666666666666666,
              "#ed7953"
             ],
             [
              0.7777777777777778,
              "#fb9f3a"
             ],
             [
              0.8888888888888888,
              "#fdca26"
             ],
             [
              1,
              "#f0f921"
             ]
            ],
            "type": "contour"
           }
          ],
          "contourcarpet": [
           {
            "colorbar": {
             "outlinewidth": 0,
             "ticks": ""
            },
            "type": "contourcarpet"
           }
          ],
          "heatmap": [
           {
            "colorbar": {
             "outlinewidth": 0,
             "ticks": ""
            },
            "colorscale": [
             [
              0,
              "#0d0887"
             ],
             [
              0.1111111111111111,
              "#46039f"
             ],
             [
              0.2222222222222222,
              "#7201a8"
             ],
             [
              0.3333333333333333,
              "#9c179e"
             ],
             [
              0.4444444444444444,
              "#bd3786"
             ],
             [
              0.5555555555555556,
              "#d8576b"
             ],
             [
              0.6666666666666666,
              "#ed7953"
             ],
             [
              0.7777777777777778,
              "#fb9f3a"
             ],
             [
              0.8888888888888888,
              "#fdca26"
             ],
             [
              1,
              "#f0f921"
             ]
            ],
            "type": "heatmap"
           }
          ],
          "heatmapgl": [
           {
            "colorbar": {
             "outlinewidth": 0,
             "ticks": ""
            },
            "colorscale": [
             [
              0,
              "#0d0887"
             ],
             [
              0.1111111111111111,
              "#46039f"
             ],
             [
              0.2222222222222222,
              "#7201a8"
             ],
             [
              0.3333333333333333,
              "#9c179e"
             ],
             [
              0.4444444444444444,
              "#bd3786"
             ],
             [
              0.5555555555555556,
              "#d8576b"
             ],
             [
              0.6666666666666666,
              "#ed7953"
             ],
             [
              0.7777777777777778,
              "#fb9f3a"
             ],
             [
              0.8888888888888888,
              "#fdca26"
             ],
             [
              1,
              "#f0f921"
             ]
            ],
            "type": "heatmapgl"
           }
          ],
          "histogram": [
           {
            "marker": {
             "colorbar": {
              "outlinewidth": 0,
              "ticks": ""
             }
            },
            "type": "histogram"
           }
          ],
          "histogram2d": [
           {
            "colorbar": {
             "outlinewidth": 0,
             "ticks": ""
            },
            "colorscale": [
             [
              0,
              "#0d0887"
             ],
             [
              0.1111111111111111,
              "#46039f"
             ],
             [
              0.2222222222222222,
              "#7201a8"
             ],
             [
              0.3333333333333333,
              "#9c179e"
             ],
             [
              0.4444444444444444,
              "#bd3786"
             ],
             [
              0.5555555555555556,
              "#d8576b"
             ],
             [
              0.6666666666666666,
              "#ed7953"
             ],
             [
              0.7777777777777778,
              "#fb9f3a"
             ],
             [
              0.8888888888888888,
              "#fdca26"
             ],
             [
              1,
              "#f0f921"
             ]
            ],
            "type": "histogram2d"
           }
          ],
          "histogram2dcontour": [
           {
            "colorbar": {
             "outlinewidth": 0,
             "ticks": ""
            },
            "colorscale": [
             [
              0,
              "#0d0887"
             ],
             [
              0.1111111111111111,
              "#46039f"
             ],
             [
              0.2222222222222222,
              "#7201a8"
             ],
             [
              0.3333333333333333,
              "#9c179e"
             ],
             [
              0.4444444444444444,
              "#bd3786"
             ],
             [
              0.5555555555555556,
              "#d8576b"
             ],
             [
              0.6666666666666666,
              "#ed7953"
             ],
             [
              0.7777777777777778,
              "#fb9f3a"
             ],
             [
              0.8888888888888888,
              "#fdca26"
             ],
             [
              1,
              "#f0f921"
             ]
            ],
            "type": "histogram2dcontour"
           }
          ],
          "mesh3d": [
           {
            "colorbar": {
             "outlinewidth": 0,
             "ticks": ""
            },
            "type": "mesh3d"
           }
          ],
          "parcoords": [
           {
            "line": {
             "colorbar": {
              "outlinewidth": 0,
              "ticks": ""
             }
            },
            "type": "parcoords"
           }
          ],
          "pie": [
           {
            "automargin": true,
            "type": "pie"
           }
          ],
          "scatter": [
           {
            "marker": {
             "colorbar": {
              "outlinewidth": 0,
              "ticks": ""
             }
            },
            "type": "scatter"
           }
          ],
          "scatter3d": [
           {
            "line": {
             "colorbar": {
              "outlinewidth": 0,
              "ticks": ""
             }
            },
            "marker": {
             "colorbar": {
              "outlinewidth": 0,
              "ticks": ""
             }
            },
            "type": "scatter3d"
           }
          ],
          "scattercarpet": [
           {
            "marker": {
             "colorbar": {
              "outlinewidth": 0,
              "ticks": ""
             }
            },
            "type": "scattercarpet"
           }
          ],
          "scattergeo": [
           {
            "marker": {
             "colorbar": {
              "outlinewidth": 0,
              "ticks": ""
             }
            },
            "type": "scattergeo"
           }
          ],
          "scattergl": [
           {
            "marker": {
             "colorbar": {
              "outlinewidth": 0,
              "ticks": ""
             }
            },
            "type": "scattergl"
           }
          ],
          "scattermapbox": [
           {
            "marker": {
             "colorbar": {
              "outlinewidth": 0,
              "ticks": ""
             }
            },
            "type": "scattermapbox"
           }
          ],
          "scatterpolar": [
           {
            "marker": {
             "colorbar": {
              "outlinewidth": 0,
              "ticks": ""
             }
            },
            "type": "scatterpolar"
           }
          ],
          "scatterpolargl": [
           {
            "marker": {
             "colorbar": {
              "outlinewidth": 0,
              "ticks": ""
             }
            },
            "type": "scatterpolargl"
           }
          ],
          "scatterternary": [
           {
            "marker": {
             "colorbar": {
              "outlinewidth": 0,
              "ticks": ""
             }
            },
            "type": "scatterternary"
           }
          ],
          "surface": [
           {
            "colorbar": {
             "outlinewidth": 0,
             "ticks": ""
            },
            "colorscale": [
             [
              0,
              "#0d0887"
             ],
             [
              0.1111111111111111,
              "#46039f"
             ],
             [
              0.2222222222222222,
              "#7201a8"
             ],
             [
              0.3333333333333333,
              "#9c179e"
             ],
             [
              0.4444444444444444,
              "#bd3786"
             ],
             [
              0.5555555555555556,
              "#d8576b"
             ],
             [
              0.6666666666666666,
              "#ed7953"
             ],
             [
              0.7777777777777778,
              "#fb9f3a"
             ],
             [
              0.8888888888888888,
              "#fdca26"
             ],
             [
              1,
              "#f0f921"
             ]
            ],
            "type": "surface"
           }
          ],
          "table": [
           {
            "cells": {
             "fill": {
              "color": "#EBF0F8"
             },
             "line": {
              "color": "white"
             }
            },
            "header": {
             "fill": {
              "color": "#C8D4E3"
             },
             "line": {
              "color": "white"
             }
            },
            "type": "table"
           }
          ]
         },
         "layout": {
          "annotationdefaults": {
           "arrowcolor": "#2a3f5f",
           "arrowhead": 0,
           "arrowwidth": 1
          },
          "coloraxis": {
           "colorbar": {
            "outlinewidth": 0,
            "ticks": ""
           }
          },
          "colorscale": {
           "diverging": [
            [
             0,
             "#8e0152"
            ],
            [
             0.1,
             "#c51b7d"
            ],
            [
             0.2,
             "#de77ae"
            ],
            [
             0.3,
             "#f1b6da"
            ],
            [
             0.4,
             "#fde0ef"
            ],
            [
             0.5,
             "#f7f7f7"
            ],
            [
             0.6,
             "#e6f5d0"
            ],
            [
             0.7,
             "#b8e186"
            ],
            [
             0.8,
             "#7fbc41"
            ],
            [
             0.9,
             "#4d9221"
            ],
            [
             1,
             "#276419"
            ]
           ],
           "sequential": [
            [
             0,
             "#0d0887"
            ],
            [
             0.1111111111111111,
             "#46039f"
            ],
            [
             0.2222222222222222,
             "#7201a8"
            ],
            [
             0.3333333333333333,
             "#9c179e"
            ],
            [
             0.4444444444444444,
             "#bd3786"
            ],
            [
             0.5555555555555556,
             "#d8576b"
            ],
            [
             0.6666666666666666,
             "#ed7953"
            ],
            [
             0.7777777777777778,
             "#fb9f3a"
            ],
            [
             0.8888888888888888,
             "#fdca26"
            ],
            [
             1,
             "#f0f921"
            ]
           ],
           "sequentialminus": [
            [
             0,
             "#0d0887"
            ],
            [
             0.1111111111111111,
             "#46039f"
            ],
            [
             0.2222222222222222,
             "#7201a8"
            ],
            [
             0.3333333333333333,
             "#9c179e"
            ],
            [
             0.4444444444444444,
             "#bd3786"
            ],
            [
             0.5555555555555556,
             "#d8576b"
            ],
            [
             0.6666666666666666,
             "#ed7953"
            ],
            [
             0.7777777777777778,
             "#fb9f3a"
            ],
            [
             0.8888888888888888,
             "#fdca26"
            ],
            [
             1,
             "#f0f921"
            ]
           ]
          },
          "colorway": [
           "#636efa",
           "#EF553B",
           "#00cc96",
           "#ab63fa",
           "#FFA15A",
           "#19d3f3",
           "#FF6692",
           "#B6E880",
           "#FF97FF",
           "#FECB52"
          ],
          "font": {
           "color": "#2a3f5f"
          },
          "geo": {
           "bgcolor": "white",
           "lakecolor": "white",
           "landcolor": "#E5ECF6",
           "showlakes": true,
           "showland": true,
           "subunitcolor": "white"
          },
          "hoverlabel": {
           "align": "left"
          },
          "hovermode": "closest",
          "mapbox": {
           "style": "light"
          },
          "paper_bgcolor": "white",
          "plot_bgcolor": "#E5ECF6",
          "polar": {
           "angularaxis": {
            "gridcolor": "white",
            "linecolor": "white",
            "ticks": ""
           },
           "bgcolor": "#E5ECF6",
           "radialaxis": {
            "gridcolor": "white",
            "linecolor": "white",
            "ticks": ""
           }
          },
          "scene": {
           "xaxis": {
            "backgroundcolor": "#E5ECF6",
            "gridcolor": "white",
            "gridwidth": 2,
            "linecolor": "white",
            "showbackground": true,
            "ticks": "",
            "zerolinecolor": "white"
           },
           "yaxis": {
            "backgroundcolor": "#E5ECF6",
            "gridcolor": "white",
            "gridwidth": 2,
            "linecolor": "white",
            "showbackground": true,
            "ticks": "",
            "zerolinecolor": "white"
           },
           "zaxis": {
            "backgroundcolor": "#E5ECF6",
            "gridcolor": "white",
            "gridwidth": 2,
            "linecolor": "white",
            "showbackground": true,
            "ticks": "",
            "zerolinecolor": "white"
           }
          },
          "shapedefaults": {
           "line": {
            "color": "#2a3f5f"
           }
          },
          "ternary": {
           "aaxis": {
            "gridcolor": "white",
            "linecolor": "white",
            "ticks": ""
           },
           "baxis": {
            "gridcolor": "white",
            "linecolor": "white",
            "ticks": ""
           },
           "bgcolor": "#E5ECF6",
           "caxis": {
            "gridcolor": "white",
            "linecolor": "white",
            "ticks": ""
           }
          },
          "title": {
           "x": 0.05
          },
          "xaxis": {
           "automargin": true,
           "gridcolor": "white",
           "linecolor": "white",
           "ticks": "",
           "title": {
            "standoff": 15
           },
           "zerolinecolor": "white",
           "zerolinewidth": 2
          },
          "yaxis": {
           "automargin": true,
           "gridcolor": "white",
           "linecolor": "white",
           "ticks": "",
           "title": {
            "standoff": 15
           },
           "zerolinecolor": "white",
           "zerolinewidth": 2
          }
         }
        }
       }
      },
      "text/html": [
       "<div>\n",
       "        \n",
       "        \n",
       "            <div id=\"14e86993-1cfe-4600-9671-07175572d3a1\" class=\"plotly-graph-div\" style=\"height:300px; width:100%;\"></div>\n",
       "            <script type=\"text/javascript\">\n",
       "                require([\"plotly\"], function(Plotly) {\n",
       "                    window.PLOTLYENV=window.PLOTLYENV || {};\n",
       "                    \n",
       "                if (document.getElementById(\"14e86993-1cfe-4600-9671-07175572d3a1\")) {\n",
       "                    Plotly.newPlot(\n",
       "                        '14e86993-1cfe-4600-9671-07175572d3a1',\n",
       "                        [{\"hovertemplate\": \"<b>%{hovertext}</b><br><br>estatus=%{marker.size}<br>lat=%{lat}<br>lon=%{lon}<extra></extra>\", \"hovertext\": [\"AGUASCALIENTES\", \"BAJA CALIFORNIA\", \"BAJA CALIFORNIA SUR\", \"CAMPECHE\", \"CHIAPAS\", \"CHIHUAHUA\", \"CIUDAD DE M\\u00c9XICO\", \"COAHUILA\", \"COLIMA\", \"DURANGO\", \"GUANAJUATO\", \"GUERRERO\", \"HIDALGO\", \"JALISCO\", \"MICHOAC\\u00c1N\", \"MORELOS\", \"M\\u00c9XICO\", \"NAYARIT\", \"NUEVO LE\\u00d3N\", \"OAXACA\", \"PUEBLA\", \"QUERETARO\", \"QUINTANA ROO\", \"SAN LUIS POTOS\\u00cd\", \"SINALOA\", \"SONORA\", \"TABASCO\", \"TAMAULIPAS\", \"TLAXCALA\", \"VERACRUZ\", \"YUCAT\\u00c1N\", \"ZACATECAS\"], \"lat\": [21.877392, 30.163889, 26.229542, 18.918481, 16.756774, 28.450097999999997, 19.401529999999998, 27.177668, 19.154457, 24.698052, 21.056379, 17.488193, 20.391071, 20.491545000000002, 19.473371, 18.780715, 19.385644, 21.701319, 25.523678, 16.642155, 18.827949, 20.606296, 19.528813, 22.15287, 24.805213000000002, 29.436925, 18.087329, 23.894994, 19.377285, 19.541197, 20.756426, 23.443960999999998], \"legendgroup\": \"\", \"lon\": [-102.27826400000001, -115.271327, -111.93681000000001, -90.17129200000001, -93.139526, -106.110482, -99.13541500000001, -101.87619000000001, -103.858376, -104.837389, -100.96404799999999, -99.912144, -98.892267, -103.726223, -101.826452, -99.108338, -99.67410100000001, -104.668144, -99.866745, -96.704747, -97.91160699999999, -100.396495, -88.094392, -100.97121700000001, -107.39653799999999, -110.514242, -92.638754, -98.59103, -98.17312, -96.597817, -88.976256, -102.758527], \"marker\": {\"color\": \"red\", \"size\": [36, 37, 18, 5, 14, 11, 293, 57, 3, 7, 49, 17, 20, 97, 23, 9, 157, 7, 78, 22, 96, 29, 51, 31, 32, 18, 52, 9, 5, 28, 51, 6], \"sizemode\": \"area\", \"sizeref\": 0.7325}, \"mode\": \"markers\", \"name\": \"\", \"showlegend\": false, \"subplot\": \"mapbox\", \"type\": \"scattermapbox\"}],\n",
       "                        {\"height\": 300, \"legend\": {\"itemsizing\": \"constant\", \"tracegroupgap\": 0}, \"mapbox\": {\"accesstoken\": \"12\", \"center\": {\"lat\": 21.69441284375, \"lon\": -100.53057109375}, \"domain\": {\"x\": [0.0, 1.0], \"y\": [0.0, 1.0]}, \"style\": \"open-street-map\", \"zoom\": 3}, \"margin\": {\"b\": 0, \"l\": 0, \"r\": 0, \"t\": 0}, \"template\": {\"data\": {\"bar\": [{\"error_x\": {\"color\": \"#2a3f5f\"}, \"error_y\": {\"color\": \"#2a3f5f\"}, \"marker\": {\"line\": {\"color\": \"#E5ECF6\", \"width\": 0.5}}, \"type\": \"bar\"}], \"barpolar\": [{\"marker\": {\"line\": {\"color\": \"#E5ECF6\", \"width\": 0.5}}, \"type\": \"barpolar\"}], \"carpet\": [{\"aaxis\": {\"endlinecolor\": \"#2a3f5f\", \"gridcolor\": \"white\", \"linecolor\": \"white\", \"minorgridcolor\": \"white\", \"startlinecolor\": \"#2a3f5f\"}, \"baxis\": {\"endlinecolor\": \"#2a3f5f\", \"gridcolor\": \"white\", \"linecolor\": \"white\", \"minorgridcolor\": \"white\", \"startlinecolor\": \"#2a3f5f\"}, \"type\": \"carpet\"}], \"choropleth\": [{\"colorbar\": {\"outlinewidth\": 0, \"ticks\": \"\"}, \"type\": \"choropleth\"}], \"contour\": [{\"colorbar\": {\"outlinewidth\": 0, \"ticks\": \"\"}, \"colorscale\": [[0.0, \"#0d0887\"], [0.1111111111111111, \"#46039f\"], [0.2222222222222222, \"#7201a8\"], [0.3333333333333333, \"#9c179e\"], [0.4444444444444444, \"#bd3786\"], [0.5555555555555556, \"#d8576b\"], [0.6666666666666666, \"#ed7953\"], [0.7777777777777778, \"#fb9f3a\"], [0.8888888888888888, \"#fdca26\"], [1.0, \"#f0f921\"]], \"type\": \"contour\"}], \"contourcarpet\": [{\"colorbar\": {\"outlinewidth\": 0, \"ticks\": \"\"}, \"type\": \"contourcarpet\"}], \"heatmap\": [{\"colorbar\": {\"outlinewidth\": 0, \"ticks\": \"\"}, \"colorscale\": [[0.0, \"#0d0887\"], [0.1111111111111111, \"#46039f\"], [0.2222222222222222, \"#7201a8\"], [0.3333333333333333, \"#9c179e\"], [0.4444444444444444, \"#bd3786\"], [0.5555555555555556, \"#d8576b\"], [0.6666666666666666, \"#ed7953\"], [0.7777777777777778, \"#fb9f3a\"], [0.8888888888888888, \"#fdca26\"], [1.0, \"#f0f921\"]], \"type\": \"heatmap\"}], \"heatmapgl\": [{\"colorbar\": {\"outlinewidth\": 0, \"ticks\": \"\"}, \"colorscale\": [[0.0, \"#0d0887\"], [0.1111111111111111, \"#46039f\"], [0.2222222222222222, \"#7201a8\"], [0.3333333333333333, \"#9c179e\"], [0.4444444444444444, \"#bd3786\"], [0.5555555555555556, \"#d8576b\"], [0.6666666666666666, \"#ed7953\"], [0.7777777777777778, \"#fb9f3a\"], [0.8888888888888888, \"#fdca26\"], [1.0, \"#f0f921\"]], \"type\": \"heatmapgl\"}], \"histogram\": [{\"marker\": {\"colorbar\": {\"outlinewidth\": 0, \"ticks\": \"\"}}, \"type\": \"histogram\"}], \"histogram2d\": [{\"colorbar\": {\"outlinewidth\": 0, \"ticks\": \"\"}, \"colorscale\": [[0.0, \"#0d0887\"], [0.1111111111111111, \"#46039f\"], [0.2222222222222222, \"#7201a8\"], [0.3333333333333333, \"#9c179e\"], [0.4444444444444444, \"#bd3786\"], [0.5555555555555556, \"#d8576b\"], [0.6666666666666666, \"#ed7953\"], [0.7777777777777778, \"#fb9f3a\"], [0.8888888888888888, \"#fdca26\"], [1.0, \"#f0f921\"]], \"type\": \"histogram2d\"}], \"histogram2dcontour\": [{\"colorbar\": {\"outlinewidth\": 0, \"ticks\": \"\"}, \"colorscale\": [[0.0, \"#0d0887\"], [0.1111111111111111, \"#46039f\"], [0.2222222222222222, \"#7201a8\"], [0.3333333333333333, \"#9c179e\"], [0.4444444444444444, \"#bd3786\"], [0.5555555555555556, \"#d8576b\"], [0.6666666666666666, \"#ed7953\"], [0.7777777777777778, \"#fb9f3a\"], [0.8888888888888888, \"#fdca26\"], [1.0, \"#f0f921\"]], \"type\": \"histogram2dcontour\"}], \"mesh3d\": [{\"colorbar\": {\"outlinewidth\": 0, \"ticks\": \"\"}, \"type\": \"mesh3d\"}], \"parcoords\": [{\"line\": {\"colorbar\": {\"outlinewidth\": 0, \"ticks\": \"\"}}, \"type\": \"parcoords\"}], \"pie\": [{\"automargin\": true, \"type\": \"pie\"}], \"scatter\": [{\"marker\": {\"colorbar\": {\"outlinewidth\": 0, \"ticks\": \"\"}}, \"type\": \"scatter\"}], \"scatter3d\": [{\"line\": {\"colorbar\": {\"outlinewidth\": 0, \"ticks\": \"\"}}, \"marker\": {\"colorbar\": {\"outlinewidth\": 0, \"ticks\": \"\"}}, \"type\": \"scatter3d\"}], \"scattercarpet\": [{\"marker\": {\"colorbar\": {\"outlinewidth\": 0, \"ticks\": \"\"}}, \"type\": \"scattercarpet\"}], \"scattergeo\": [{\"marker\": {\"colorbar\": {\"outlinewidth\": 0, \"ticks\": \"\"}}, \"type\": \"scattergeo\"}], \"scattergl\": [{\"marker\": {\"colorbar\": {\"outlinewidth\": 0, \"ticks\": \"\"}}, \"type\": \"scattergl\"}], \"scattermapbox\": [{\"marker\": {\"colorbar\": {\"outlinewidth\": 0, \"ticks\": \"\"}}, \"type\": \"scattermapbox\"}], \"scatterpolar\": [{\"marker\": {\"colorbar\": {\"outlinewidth\": 0, \"ticks\": \"\"}}, \"type\": \"scatterpolar\"}], \"scatterpolargl\": [{\"marker\": {\"colorbar\": {\"outlinewidth\": 0, \"ticks\": \"\"}}, \"type\": \"scatterpolargl\"}], \"scatterternary\": [{\"marker\": {\"colorbar\": {\"outlinewidth\": 0, \"ticks\": \"\"}}, \"type\": \"scatterternary\"}], \"surface\": [{\"colorbar\": {\"outlinewidth\": 0, \"ticks\": \"\"}, \"colorscale\": [[0.0, \"#0d0887\"], [0.1111111111111111, \"#46039f\"], [0.2222222222222222, \"#7201a8\"], [0.3333333333333333, \"#9c179e\"], [0.4444444444444444, \"#bd3786\"], [0.5555555555555556, \"#d8576b\"], [0.6666666666666666, \"#ed7953\"], [0.7777777777777778, \"#fb9f3a\"], [0.8888888888888888, \"#fdca26\"], [1.0, \"#f0f921\"]], \"type\": \"surface\"}], \"table\": [{\"cells\": {\"fill\": {\"color\": \"#EBF0F8\"}, \"line\": {\"color\": \"white\"}}, \"header\": {\"fill\": {\"color\": \"#C8D4E3\"}, \"line\": {\"color\": \"white\"}}, \"type\": \"table\"}]}, \"layout\": {\"annotationdefaults\": {\"arrowcolor\": \"#2a3f5f\", \"arrowhead\": 0, \"arrowwidth\": 1}, \"coloraxis\": {\"colorbar\": {\"outlinewidth\": 0, \"ticks\": \"\"}}, \"colorscale\": {\"diverging\": [[0, \"#8e0152\"], [0.1, \"#c51b7d\"], [0.2, \"#de77ae\"], [0.3, \"#f1b6da\"], [0.4, \"#fde0ef\"], [0.5, \"#f7f7f7\"], [0.6, \"#e6f5d0\"], [0.7, \"#b8e186\"], [0.8, \"#7fbc41\"], [0.9, \"#4d9221\"], [1, \"#276419\"]], \"sequential\": [[0.0, \"#0d0887\"], [0.1111111111111111, \"#46039f\"], [0.2222222222222222, \"#7201a8\"], [0.3333333333333333, \"#9c179e\"], [0.4444444444444444, \"#bd3786\"], [0.5555555555555556, \"#d8576b\"], [0.6666666666666666, \"#ed7953\"], [0.7777777777777778, \"#fb9f3a\"], [0.8888888888888888, \"#fdca26\"], [1.0, \"#f0f921\"]], \"sequentialminus\": [[0.0, \"#0d0887\"], [0.1111111111111111, \"#46039f\"], [0.2222222222222222, \"#7201a8\"], [0.3333333333333333, \"#9c179e\"], [0.4444444444444444, \"#bd3786\"], [0.5555555555555556, \"#d8576b\"], [0.6666666666666666, \"#ed7953\"], [0.7777777777777778, \"#fb9f3a\"], [0.8888888888888888, \"#fdca26\"], [1.0, \"#f0f921\"]]}, \"colorway\": [\"#636efa\", \"#EF553B\", \"#00cc96\", \"#ab63fa\", \"#FFA15A\", \"#19d3f3\", \"#FF6692\", \"#B6E880\", \"#FF97FF\", \"#FECB52\"], \"font\": {\"color\": \"#2a3f5f\"}, \"geo\": {\"bgcolor\": \"white\", \"lakecolor\": \"white\", \"landcolor\": \"#E5ECF6\", \"showlakes\": true, \"showland\": true, \"subunitcolor\": \"white\"}, \"hoverlabel\": {\"align\": \"left\"}, \"hovermode\": \"closest\", \"mapbox\": {\"style\": \"light\"}, \"paper_bgcolor\": \"white\", \"plot_bgcolor\": \"#E5ECF6\", \"polar\": {\"angularaxis\": {\"gridcolor\": \"white\", \"linecolor\": \"white\", \"ticks\": \"\"}, \"bgcolor\": \"#E5ECF6\", \"radialaxis\": {\"gridcolor\": \"white\", \"linecolor\": \"white\", \"ticks\": \"\"}}, \"scene\": {\"xaxis\": {\"backgroundcolor\": \"#E5ECF6\", \"gridcolor\": \"white\", \"gridwidth\": 2, \"linecolor\": \"white\", \"showbackground\": true, \"ticks\": \"\", \"zerolinecolor\": \"white\"}, \"yaxis\": {\"backgroundcolor\": \"#E5ECF6\", \"gridcolor\": \"white\", \"gridwidth\": 2, \"linecolor\": \"white\", \"showbackground\": true, \"ticks\": \"\", \"zerolinecolor\": \"white\"}, \"zaxis\": {\"backgroundcolor\": \"#E5ECF6\", \"gridcolor\": \"white\", \"gridwidth\": 2, \"linecolor\": \"white\", \"showbackground\": true, \"ticks\": \"\", \"zerolinecolor\": \"white\"}}, \"shapedefaults\": {\"line\": {\"color\": \"#2a3f5f\"}}, \"ternary\": {\"aaxis\": {\"gridcolor\": \"white\", \"linecolor\": \"white\", \"ticks\": \"\"}, \"baxis\": {\"gridcolor\": \"white\", \"linecolor\": \"white\", \"ticks\": \"\"}, \"bgcolor\": \"#E5ECF6\", \"caxis\": {\"gridcolor\": \"white\", \"linecolor\": \"white\", \"ticks\": \"\"}}, \"title\": {\"x\": 0.05}, \"xaxis\": {\"automargin\": true, \"gridcolor\": \"white\", \"linecolor\": \"white\", \"ticks\": \"\", \"title\": {\"standoff\": 15}, \"zerolinecolor\": \"white\", \"zerolinewidth\": 2}, \"yaxis\": {\"automargin\": true, \"gridcolor\": \"white\", \"linecolor\": \"white\", \"ticks\": \"\", \"title\": {\"standoff\": 15}, \"zerolinecolor\": \"white\", \"zerolinewidth\": 2}}}},\n",
       "                        {\"responsive\": true}\n",
       "                    ).then(function(){\n",
       "                            \n",
       "var gd = document.getElementById('14e86993-1cfe-4600-9671-07175572d3a1');\n",
       "var x = new MutationObserver(function (mutations, observer) {{\n",
       "        var display = window.getComputedStyle(gd).display;\n",
       "        if (!display || display === 'none') {{\n",
       "            console.log([gd, 'removed!']);\n",
       "            Plotly.purge(gd);\n",
       "            observer.disconnect();\n",
       "        }}\n",
       "}});\n",
       "\n",
       "// Listen for the removal of the full notebook cells\n",
       "var notebookContainer = gd.closest('#notebook-container');\n",
       "if (notebookContainer) {{\n",
       "    x.observe(notebookContainer, {childList: true});\n",
       "}}\n",
       "\n",
       "// Listen for the clearing of the current output cell\n",
       "var outputEl = gd.closest('.output');\n",
       "if (outputEl) {{\n",
       "    x.observe(outputEl, {childList: true});\n",
       "}}\n",
       "\n",
       "                        })\n",
       "                };\n",
       "                });\n",
       "            </script>\n",
       "        </div>"
      ]
     },
     "metadata": {},
     "output_type": "display_data"
    }
   ],
   "source": [
    "# Graph the map of Mexico\n",
    "import plotly.express as px\n",
    "px.set_mapbox_access_token(\"12\")\n",
    "fig = px.scatter_mapbox(datos_mapa, lat = \"lat\", lon = \"lon\", hover_name = \"estado\",\n",
    "                       color_discrete_sequence=[\"red\"], zoom=3, size = \"estatus\", height = 300)\n",
    "fig.update_layout(mapbox_style = \"open-street-map\")\n",
    "fig.update_layout(margin = {\"r\":0, \"t\":0, \"l\":0, \"b\":0})\n",
    "fig.show()"
   ]
  }
 ],
 "metadata": {
  "kernelspec": {
   "display_name": "Python 3",
   "language": "python",
   "name": "python3"
  },
  "language_info": {
   "codemirror_mode": {
    "name": "ipython",
    "version": 3
   },
   "file_extension": ".py",
   "mimetype": "text/x-python",
   "name": "python",
   "nbconvert_exporter": "python",
   "pygments_lexer": "ipython3",
   "version": "3.8.2"
  }
 },
 "nbformat": 4,
 "nbformat_minor": 4
}
